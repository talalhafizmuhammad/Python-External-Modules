{
 "cells": [
  {
   "cell_type": "code",
   "execution_count": null,
   "id": "216ceed3",
   "metadata": {},
   "outputs": [],
   "source": [
    "import matplotlib.pyplot as plt\n",
    "import seaborn as sns\n",
    "import plotly.express as px\n",
    "import plotly.graph_objects as go\n",
    "import cufflinks as cf\n",
    "cf.go_offline()\n"
   ]
  },
  {
   "cell_type": "markdown",
   "id": "1804589d",
   "metadata": {},
   "source": [
    "\n",
    "# 📊 Matplotlib\n",
    "\n",
    "- Released: Early 2000s (by John D. Hunter).\n",
    "\n",
    "- **Why:** Inspired by MATLAB’s plotting capabilities, created to give Python a 2D plotting library for scientists/engineers.\n",
    "\n",
    "- **What it does:** Provides low-level control over every element of a plot (axes, ticks, labels, grids).\n",
    "\n",
    "- **Use case:** Fundamental for all other Python viz libraries. \"The grandfather of Python plotting\"."
   ]
  },
  {
   "cell_type": "markdown",
   "id": "9e377964",
   "metadata": {},
   "source": [
    "# 🎨 Seaborn\n",
    "\n",
    "- **Released:** 2014 (by Michael Waskom).\n",
    "\n",
    "- **Why:** Built on top of Matplotlib to make statistical graphics simpler and prettier.\n",
    "\n",
    "- **What it does:** Adds themes, color palettes, and easy one-liners for heatmaps, distributions, regression plots.\n",
    "\n",
    "- **Use case:** Best for statistical visualization + aesthetics with less code."
   ]
  },
  {
   "cell_type": "markdown",
   "id": "ac23b5b8",
   "metadata": {},
   "source": [
    "# 🌐 Plotly\n",
    "\n",
    "- **Released:** 2012 (by Plotly company).\n",
    "\n",
    "- **Why:** Created to bring interactive, web-ready plots to Python.\n",
    "\n",
    "- **What it does:** Supports zoom, hover, dynamic updates, and 3D plotting.\n",
    "\n",
    "- **Use case:** Best for dashboards, interactive data exploration, and presentations."
   ]
  },
  {
   "cell_type": "markdown",
   "id": "436b6e1b",
   "metadata": {},
   "source": [
    "# 🔗 Cufflinks\n",
    "\n",
    "- **Released:** Around 2014–2015.\n",
    "\n",
    "- **Why:** Designed to link Plotly with Pandas, making interactive plotting as easy as .plot().\n",
    "\n",
    "- **What it does:** Lets you call Pandas DataFrame.plot(kind='...') but outputs interactive Plotly charts.\n",
    "\n",
    "- **Use case:** Quick way to visualize Pandas data without boilerplate Plotly code."
   ]
  },
  {
   "cell_type": "markdown",
   "id": "3bdcb25f",
   "metadata": {},
   "source": [
    "### 👉 Together:\n",
    "\n",
    "- **Matplotlib** = foundation (control everything).\n",
    "\n",
    "- **Seaborn** = beautiful stats plots, easier code.\n",
    "\n",
    "- **Plotly** = interactive + web dashboards.\n",
    "\n",
    "- **Cufflinks** = shortcut for Plotly + Pandas."
   ]
  },
  {
   "cell_type": "markdown",
   "id": "e8419395",
   "metadata": {},
   "source": [
    "## **Created By:** *Hafiz Muhammad Talal*"
   ]
  }
 ],
 "metadata": {
  "kernelspec": {
   "display_name": "base",
   "language": "python",
   "name": "python3"
  },
  "language_info": {
   "codemirror_mode": {
    "name": "ipython",
    "version": 3
   },
   "file_extension": ".py",
   "mimetype": "text/x-python",
   "name": "python",
   "nbconvert_exporter": "python",
   "pygments_lexer": "ipython3",
   "version": "3.12.7"
  }
 },
 "nbformat": 4,
 "nbformat_minor": 5
}

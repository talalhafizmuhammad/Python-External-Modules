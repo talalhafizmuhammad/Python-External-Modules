{
 "cells": [
  {
   "cell_type": "markdown",
   "id": "8698e579",
   "metadata": {},
   "source": [
    "# NumPy — Numerical Python\n",
    "NumPy is the core library for numerical computing in Python, providing:\n",
    "- Fast and memory-efficient multi-dimensional arrays\n",
    "- Mathematical functions for linear algebra, statistics, and more\n",
    "- Tools for integrating with other scientific libraries\n"
   ]
  },
  {
   "cell_type": "markdown",
   "id": "3fb66163",
   "metadata": {},
   "source": [
    "## Brief History\n",
    "- In **1995** *Numeric* library released by Jim Hugunin (early numerical computing in Python).\n",
    "- In **2001** *Numarray* created for handling large datasets more efficiently.\n",
    "- In **2005** Travis Oliphant merged Numeric and Numarray into **NumPy** (Numerical Python).\n",
    "- Today, it is maintained by the open-source community and NumPy Developers, forming the **foundation for nearly all Python data science libraries**.\n",
    "\n",
    "## Why NumPy is Important\n",
    "- **Performance** --> Uses optimized C code under the hood, much faster than plain Python lists.\n",
    "- **Memory Efficiency** --> Stores elements in contiguous memory blocks.\n",
    "- **Powerful Functions** --> Mathematical, statistical, and linear algebra operations.\n",
    "- **Multidimensional Arrays** --> Supports 1D, 2D, and nD arrays with broadcasting.\n",
    "- **Interoperability** --> Works with Pandas, Matplotlib, Scikit-learn, TensorFlow, and more.\n",
    "\n",
    "## Key Facts\n",
    "- **Core object**: `ndarray` (N-dimensional array).\n",
    "- **Vectorized operations**: No need for explicit Python loops.\n",
    "- **Broadcasting**: Allows operations on arrays of different shapes.\n",
    "- **Indexing types**: Basic slicing, advanced (fancy) indexing, boolean masking.\n",
    "- **Random module**: For reproducible simulations and experiments.\n"
   ]
  },
  {
   "cell_type": "markdown",
   "id": "b4e27df9",
   "metadata": {},
   "source": [
    "##### It is the foundation of most of the data sciences and ML libraries like, Pandas, Scikit-Learn, Pytorch, Tensorflow, etc."
   ]
  },
  {
   "cell_type": "code",
   "execution_count": 1,
   "id": "ed3dafe5",
   "metadata": {},
   "outputs": [],
   "source": [
    "# installation process\n",
    "# pip install numpy\n",
    "\n",
    "import numpy as np\n"
   ]
  },
  {
   "cell_type": "markdown",
   "id": "a2b38ec9",
   "metadata": {},
   "source": [
    "## Creating Numpy arrays\n",
    "\n",
    "There are **Two** methods of creating Numpy arrays\n",
    "1. Through lists\n",
    "2. Through tuples"
   ]
  },
  {
   "cell_type": "code",
   "execution_count": null,
   "id": "a7bacbb7",
   "metadata": {},
   "outputs": [],
   "source": [
    "array = np.array([1, 2, 3, 4, 5])\n",
    "\n",
    "print(f\"Array: {array}\")\n",
    "print(f\"Type of array: {type(array)}\")"
   ]
  },
  {
   "cell_type": "markdown",
   "id": "59af1bd0",
   "metadata": {},
   "source": [
    "##### With DataType"
   ]
  },
  {
   "cell_type": "code",
   "execution_count": null,
   "id": "d91e4a3e",
   "metadata": {},
   "outputs": [],
   "source": [
    "arr = np.array([1, 2, 3, 4.555, '5'], dtype = 'i')\n",
    "print(arr, type(arr))\n",
    "\n",
    "arr2 = np.array([2, 3, 4, 6, 8], dtype = 'f')\n",
    "print(arr2, type(arr2))\n"
   ]
  },
  {
   "cell_type": "markdown",
   "id": "fdb3cb5b",
   "metadata": {},
   "source": [
    "## NumPy vs List"
   ]
  },
  {
   "cell_type": "code",
   "execution_count": null,
   "id": "befb34be",
   "metadata": {},
   "outputs": [],
   "source": [
    "List = [1, 2, 3, 4, 5]\n",
    "print(List * 2)\n",
    "\n",
    "Array = np.array([1, 2, 3, 4, 5])\n",
    "print(Array * 2)\n"
   ]
  },
  {
   "cell_type": "markdown",
   "id": "64870c80",
   "metadata": {},
   "source": [
    "### Execution time taken "
   ]
  },
  {
   "cell_type": "markdown",
   "id": "96df9666",
   "metadata": {},
   "source": [
    "##### It is the comparasion between the time taken by a list to execute VS the numpy array"
   ]
  },
  {
   "cell_type": "code",
   "execution_count": null,
   "id": "a38d8636",
   "metadata": {},
   "outputs": [],
   "source": [
    "import numpy as np\n",
    "import time\n",
    "t = time.time()\n",
    "# Execution time for List\n",
    "List = [2 * i for i in range(20000)]\n",
    "\n",
    "print(f\"Execution time: {time.time()-t}\")\n",
    "\n",
    "u = time.time()\n",
    "# Execution time for numpy arrays\n",
    "npArr = np.arange(20000) * 2\n",
    "\n",
    "print(f\"Execution time: {time.time()-u}\")"
   ]
  },
  {
   "cell_type": "markdown",
   "id": "11dfcadd",
   "metadata": {},
   "source": [
    "### MultiDimensional arrays"
   ]
  },
  {
   "cell_type": "markdown",
   "id": "43232287",
   "metadata": {},
   "source": [
    "##### Arrays having more than one dimensions are called multidimensional numpy arrays"
   ]
  },
  {
   "cell_type": "code",
   "execution_count": null,
   "id": "9b617105",
   "metadata": {},
   "outputs": [],
   "source": [
    "arr1 = np.array([[1, 2, 3],\n",
    "                [4, 5, 6], [7, 8, 9]])  # 2D array \n",
    "print(arr1, arr1.ndim)\n",
    "\n",
    "arr2 = np.array([[[1, 2, 3], [4, 5, 6]], [[7, 8, 9], [10, 11, 12]]])\n",
    "print(arr2, arr2.ndim)  # 3D array"
   ]
  },
  {
   "cell_type": "markdown",
   "id": "69d7099c",
   "metadata": {},
   "source": [
    "### Creating arrays from scratch"
   ]
  },
  {
   "cell_type": "code",
   "execution_count": null,
   "id": "a8c7cc67",
   "metadata": {},
   "outputs": [],
   "source": [
    "# Special values\n",
    "\n",
    "zero = np.zeros((2, 4), dtype='i')  # zero or null matrix\n",
    "print(f\"Zeros array: {zero}\")\n",
    "\n",
    "ones = np.ones((3, 3), dtype='i')\n",
    "print(f\"Ones array: {ones}\")  # Matrix with all entities 1\n",
    "\n",
    "full = np.full((3, 5), 6, dtype='i')   # full(dimensions in form of tuple, offset)\n",
    "print(f\"Full array with 6s: {full}\")\n",
    "\n",
    "random = np.random.rand(5, 3)    #creates an array with random values from [0, 1)\n",
    "print(f\"Random float array: {random}\")\n",
    "\n",
    "# to generate random numbers:\n",
    "randint = np.random.randint(1, 20)\n",
    "print(f\"Your single integer: {randint}\")\n",
    "\n",
    "# to generate ana array of random integers:\n",
    "rand = np.random.randint(1, 20, 5)  # 1D array\n",
    "randintArray = np.random.randint(1, 20, (3, 4))  # 2D array of random values\n",
    "print(f\"Your 2D random array: {randintArray}\")\n",
    "\n",
    "# Sequence array:\n",
    "seq1 = np.arange(1, 20)   # prints values sequence wise from 1 to 20\n",
    "seq = np.arange(0, 16, 3)  # prints from 0-16 with interval of 3\n",
    "print(f\"Our sequenced array is: {seq}\")\n",
    "\n",
    "\n",
    "# Diagonal 2D array\n",
    "\n",
    "diagonal = np.eye(4, dtype='i')\n",
    "print(f\"Diagonal array: \\n {diagonal}\")"
   ]
  },
  {
   "cell_type": "markdown",
   "id": "0660624e",
   "metadata": {},
   "source": [
    "## Vectors, Matrices and Tensors"
   ]
  },
  {
   "cell_type": "markdown",
   "id": "ef0173d0",
   "metadata": {},
   "source": [
    "- **Vectors:** These are one dimentional arrays\n",
    "- **Matrices:** These are two dimensional arrays\n",
    "- **Tensors:** These are multidimensional arrays"
   ]
  },
  {
   "cell_type": "code",
   "execution_count": null,
   "id": "cd260459",
   "metadata": {},
   "outputs": [],
   "source": [
    "# Creating Vector\n",
    "\n",
    "array = np.array((1, 2, 3, 4, 5))\n",
    "print(f\"Vector: {array}\")\n",
    "\n",
    "# Creating Matrix\n",
    "\n",
    "Matrix = np.array([[1, 2, 3], [4, 5, 6], [7, 8, 9]])\n",
    "print(f\"Matrix: \\n{Matrix}\")\n",
    "\n",
    "# Creating Tensors (Multidimensional arrays)\n",
    "\n",
    "tensor = np.array([[[1, 2, 3], [4, 5, 6]], [[7, 8, 9], [10, 11, 12]]])\n",
    "print(f\"Tensor: \\n{tensor}\")"
   ]
  },
  {
   "cell_type": "markdown",
   "id": "9f1e807d",
   "metadata": {},
   "source": [
    "## Array Properties"
   ]
  },
  {
   "cell_type": "markdown",
   "id": "cf3ade74",
   "metadata": {},
   "source": [
    "##### We can check the shape, size, dimensions and data type of an array"
   ]
  },
  {
   "cell_type": "markdown",
   "id": "0f5a49bb",
   "metadata": {},
   "source": [
    "### **Data Types**\n",
    "Data type of the array elements\t"
   ]
  },
  {
   "cell_type": "code",
   "execution_count": null,
   "id": "7d401fb5",
   "metadata": {},
   "outputs": [],
   "source": [
    "array = np.array([1, 2, 3, 4, 5])\n",
    "array1 = np.array([1., 2., 3., 4., 5.])\n",
    "array2 = np.array(['abc', 'def', 'ghi'])\n",
    "array3 = np.array([True, False])\n",
    "array4 = np.array(['Hy', 2, 3, 4, 'Hello'])\n",
    "array5 = np.array(['hy', 2., 3.5, 4.4, 'By'])\n",
    "array6 = np.array([True, 'Hy', 'Hello', False])\n",
    "# Data type\n",
    "print(f\"Data type: {array.dtype}\")  # int32 in case of integer array\n",
    "print(f\"Data type: {array1.dtype}\")  # float64 in case of floating point array, as well as an array having both integers and floats\n",
    "print(f\"Data type: {array2.dtype}\")  # <U3 in case of string literals\n",
    "print(f\"Data type: {array3.dtype}\")  # bool in case of boolean\n",
    "print(f\"Data type: {array4.dtype}\")  # <U11 in case of an array having strings and integers\n",
    "print(f\"Data type: {array5.dtype}\")  # <U32 in case of an array having both floats and strings \n",
    "print(f\"Data type: {array6.dtype}\")  # <U5 in case of an array having both boolean and string vals\n"
   ]
  },
  {
   "cell_type": "markdown",
   "id": "c69eaf22",
   "metadata": {},
   "source": [
    "### **Dimensions**\n",
    "Number of dimensions (axes) of the array\t"
   ]
  },
  {
   "cell_type": "code",
   "execution_count": null,
   "id": "02fba917",
   "metadata": {},
   "outputs": [],
   "source": [
    "array = np.array([1, 2, 3, 4, 5])\n",
    "print(f\"Dimensions: {array.ndim}\")  # 1D\n",
    "\n",
    "Matrix = np.array([[1, 2, 3], [4, 5, 6], [7, 8, 9]])\n",
    "print(f\"Dimensions: {Matrix.ndim}\")  #2D\n",
    "\n",
    "tensor = np.array([[[1, 2, 3], [4, 5, 6]], [[7, 8, 9], [10, 11, 12]]])\n",
    "print(f\"Dimensions: {tensor.ndim}\")   # 3D"
   ]
  },
  {
   "cell_type": "markdown",
   "id": "8fff264d",
   "metadata": {},
   "source": [
    "### **Shape**\n",
    "Tuple showing the size along each dimension\t"
   ]
  },
  {
   "cell_type": "code",
   "execution_count": null,
   "id": "1b70f38e",
   "metadata": {},
   "outputs": [],
   "source": [
    "array = np.array([1, 2, 3, 4, 5])\n",
    "print(f\"Shape: {array.shape}\")  # (5,)\n",
    "\n",
    "Matrix = np.array([[1, 2, 3], [4, 5, 6], [7, 8, 9]])\n",
    "print(f\"Shape: {Matrix.shape}\")  # (3, 3)\n",
    "\n",
    "tensor = np.array([[[1, 2, 3], [4, 5, 6]], [[7, 8, 9], [10, 11, 12]]])\n",
    "print(f\"Shape: {tensor.shape}\")   # (2, 2, 3)"
   ]
  },
  {
   "cell_type": "markdown",
   "id": "a153a56e",
   "metadata": {},
   "source": [
    "### **Size**\n",
    "Total number of elements in the array\t"
   ]
  },
  {
   "cell_type": "code",
   "execution_count": null,
   "id": "2fe7c714",
   "metadata": {},
   "outputs": [],
   "source": [
    "# Prints the num of elements\n",
    "\n",
    "array = np.array([1, 2, 3, 4, 5])\n",
    "print(f\"Size: {array.size}\")  # 5\n",
    "\n",
    "Matrix = np.array([[1, 2, 3], [4, 5, 6], [7, 8, 9]])\n",
    "print(f\"Size: {Matrix.size}\")  # 9\n",
    "\n",
    "tensor = np.array([[[1, 2, 3], [4, 5, 6]], [[7, 8, 9], [10, 11, 12]]])\n",
    "print(f\"Size: {tensor.size}\")   # 12"
   ]
  },
  {
   "cell_type": "markdown",
   "id": "3a880bba",
   "metadata": {},
   "source": [
    "## Basic Mathematical Operations"
   ]
  },
  {
   "cell_type": "markdown",
   "id": "755ada4f",
   "metadata": {},
   "source": [
    "##### Sum"
   ]
  },
  {
   "cell_type": "code",
   "execution_count": null,
   "id": "baf919e0",
   "metadata": {},
   "outputs": [],
   "source": [
    "# Sum of 2 numpy arrays\n",
    "# size must be same for both arrays\n",
    "x = np.arange(1, 11)\n",
    "y = np.arange(6, 16)\n",
    "\n",
    "sum = x + y\n",
    "print(f\"Sum is {sum}\")"
   ]
  },
  {
   "cell_type": "markdown",
   "id": "7eac042b",
   "metadata": {},
   "source": [
    "##### Subtraction"
   ]
  },
  {
   "cell_type": "code",
   "execution_count": null,
   "id": "dea50ce9",
   "metadata": {},
   "outputs": [],
   "source": [
    "# Subtraction\n",
    "sub = x - y\n",
    "print(f\"Subtraction is {sub}\")"
   ]
  },
  {
   "cell_type": "markdown",
   "id": "f63a0418",
   "metadata": {},
   "source": [
    "##### Multipication\n"
   ]
  },
  {
   "cell_type": "code",
   "execution_count": null,
   "id": "b2456e1d",
   "metadata": {},
   "outputs": [],
   "source": [
    "# Multiplication\n",
    "mul = x * y\n",
    "print(f\"Multiplication is {mul}\")"
   ]
  },
  {
   "cell_type": "markdown",
   "id": "e3992424",
   "metadata": {},
   "source": [
    "##### Division"
   ]
  },
  {
   "cell_type": "code",
   "execution_count": null,
   "id": "2ba3c913",
   "metadata": {},
   "outputs": [],
   "source": [
    "# Division\n",
    "div = x / y\n",
    "print(f\"Division is {div}\")"
   ]
  },
  {
   "cell_type": "markdown",
   "id": "16b70a0a",
   "metadata": {},
   "source": [
    "##### Modulus"
   ]
  },
  {
   "cell_type": "code",
   "execution_count": null,
   "id": "25f6f7ff",
   "metadata": {},
   "outputs": [],
   "source": [
    "# Modulus\n",
    "mod = x % y\n",
    "print(f\"Modulus is {mod}\")"
   ]
  },
  {
   "cell_type": "markdown",
   "id": "3515bd22",
   "metadata": {},
   "source": [
    "## Comparasional operations"
   ]
  },
  {
   "cell_type": "markdown",
   "id": "6bec4c56",
   "metadata": {},
   "source": [
    "##### Greater than"
   ]
  },
  {
   "cell_type": "code",
   "execution_count": null,
   "id": "d9e33d57",
   "metadata": {},
   "outputs": [],
   "source": [
    "# Greater than\n",
    "gt = x > y\n",
    "print(f\"x > y: {gt}\")"
   ]
  },
  {
   "cell_type": "markdown",
   "id": "6f6cc12f",
   "metadata": {},
   "source": [
    "##### Squaring "
   ]
  },
  {
   "cell_type": "code",
   "execution_count": null,
   "id": "5a5fa900",
   "metadata": {},
   "outputs": [],
   "source": [
    "x = np.arange(1, 6)\n",
    "y = np.arange(1, 6)\n",
    "\n",
    "Square = x ** y\n",
    "print(f\"Square is: {Square}\")"
   ]
  },
  {
   "cell_type": "markdown",
   "id": "1ad9713c",
   "metadata": {},
   "source": [
    "##### Square root"
   ]
  },
  {
   "cell_type": "code",
   "execution_count": null,
   "id": "3dcac685",
   "metadata": {},
   "outputs": [],
   "source": [
    "x = np.arange(1, 8) \n",
    "\n",
    "sq_rt = np.sqrt(x)  # Return values in floating point numbers\n",
    "print(f\"Square root is: {sq_rt}\")"
   ]
  },
  {
   "cell_type": "markdown",
   "id": "d590014b",
   "metadata": {},
   "source": [
    "##### Equal to, not equal to"
   ]
  },
  {
   "cell_type": "code",
   "execution_count": null,
   "id": "dc0f7b7a",
   "metadata": {},
   "outputs": [],
   "source": [
    "# Equal to\n",
    "eq = x == y\n",
    "print(f\"x == y: {eq}\")\n",
    "# Not equal to\n",
    "neq = x != y\n",
    "print(f\"x != y: {neq}\")"
   ]
  },
  {
   "cell_type": "markdown",
   "id": "f6b78ad7",
   "metadata": {},
   "source": [
    "##### Exponential values"
   ]
  },
  {
   "cell_type": "code",
   "execution_count": null,
   "id": "957fe964",
   "metadata": {},
   "outputs": [],
   "source": [
    "y = np.exp(x)   # e -> 2.718\n",
    "print(f\"Exponent times number is: {y}\")"
   ]
  },
  {
   "cell_type": "markdown",
   "id": "d83e3845",
   "metadata": {},
   "source": [
    "## Aggregate Operations"
   ]
  },
  {
   "cell_type": "markdown",
   "id": "26918585",
   "metadata": {},
   "source": [
    "### Some aggregate functions"
   ]
  },
  {
   "cell_type": "code",
   "execution_count": null,
   "id": "972e9f1f",
   "metadata": {},
   "outputs": [],
   "source": [
    "# Sum of all elements\n",
    "total_sum = arr.sum()\n",
    "print(f\"Sum of all elements: {total_sum}\")\n",
    "\n",
    "# Minimum element\n",
    "min_val = arr.min()\n",
    "print(f\"Minimum element: {min_val}\")\n",
    "\n",
    "# Maximum element\n",
    "max_val = arr.max()\n",
    "print(f\"Maximum element: {max_val}\")\n",
    "\n",
    "# Mean of all elements\n",
    "mean_val = arr.mean()\n",
    "print(f\"Mean of all elements: {mean_val}\")\n",
    "\n",
    "# Standard deviation\n",
    "std_val = arr.std()\n",
    "print(f\"Standard deviation: {std_val}\")\n",
    "\n",
    "# Sum along columns (axis=0)\n",
    "col_sum = arr.sum(axis=0)\n",
    "print(f\"Sum along columns: {col_sum}\")\n",
    "\n",
    "# Sum along rows (axis=1)\n",
    "row_sum = arr.sum(axis=1)\n",
    "print(f\"Sum along rows: {row_sum}\")\n"
   ]
  },
  {
   "cell_type": "markdown",
   "id": "96162518",
   "metadata": {},
   "source": [
    "## Indexing and Slicing"
   ]
  },
  {
   "cell_type": "code",
   "execution_count": null,
   "id": "34008282",
   "metadata": {},
   "outputs": [],
   "source": [
    "import numpy as np\n",
    "\n",
    "arr = np.array([5, 7, 20, 25, 19, 75])\n",
    "print(arr[1])\n",
    "# print(arr[4])  # Index error\n",
    "print(arr[-4])\n",
    "# print(arr[-5])   # Index error\n",
    "print(arr[0:4])  # print values from index 0 to 3\n",
    "print(arr[2:])  # same as arr[2:7]\n",
    "print(arr[:4])  # same as arr[0:4]\n",
    "print(arr[-4:])   # not same as arr[-4:-1]\n",
    "\n",
    "# Broadcasting --> altering several values in an array at once by a specific sequence\n",
    "arr[0:3] = 3 \n",
    "print(arr)\n",
    "\n",
    "# 2D arrays\n",
    "\n",
    "arr2D = np.array([[1, 2, 3], [4, 5, 6], [7, 8, 9], [10, 11, 12]])\n",
    "print(arr2D)\n",
    "\n",
    "arr2D[0:3, 1:3] = 5\n",
    "print(arr2D)\n",
    "\n",
    "\n"
   ]
  },
  {
   "cell_type": "markdown",
   "id": "46735c30",
   "metadata": {},
   "source": [
    "## Accessing 2D array elements"
   ]
  },
  {
   "cell_type": "code",
   "execution_count": null,
   "id": "6945efb3",
   "metadata": {},
   "outputs": [],
   "source": [
    "arr2D = np.array([[1, 2, 3], [4, 5, 6], [7, 8, 9], [10, 11, 12]])\n",
    "\n",
    "print(arr2D[0])  # prints row 1\n",
    "print(arr2D[0][0])\n",
    "print(arr2D[3][2])\n",
    "\n",
    "# access array column\n",
    "\n",
    "print(arr2D[:, 1])  # column 2 (at index 1)"
   ]
  },
  {
   "cell_type": "markdown",
   "id": "6e06e406",
   "metadata": {},
   "source": [
    "## Elements Selection (On the basis of some condition)"
   ]
  },
  {
   "cell_type": "code",
   "execution_count": null,
   "id": "2f21eb79",
   "metadata": {},
   "outputs": [],
   "source": [
    "# Create a 5x5 matrix with random integers between 1 and 14\n",
    "matrix = np.random.randint(1, 15, (5, 5))\n",
    "print(matrix)\n",
    "\n",
    "# Define a 4x3 2D array\n",
    "arr2D = np.array([[1, 2, 3], \n",
    "                  [4, 5, 6], \n",
    "                  [7, 8, 9], \n",
    "                  [10, 11, 12]])\n",
    "\n",
    "# Select elements from 'matrix' greater than 10 (boolean indexing)\n",
    "mat = matrix[matrix > 10]\n",
    "print(mat)\n",
    "\n",
    "# Select odd elements from 'arr2D' (elements % 2 == 1)\n",
    "mat2 = arr2D[arr2D % 2 == 1]\n",
    "print(mat2)\n"
   ]
  },
  {
   "cell_type": "markdown",
   "id": "2f1bbc15",
   "metadata": {},
   "source": [
    "# Advance Topics"
   ]
  },
  {
   "cell_type": "markdown",
   "id": "91e650b5",
   "metadata": {},
   "source": [
    "#### Views, copies, Fancy indexing,..."
   ]
  },
  {
   "cell_type": "markdown",
   "id": "e575393f",
   "metadata": {},
   "source": [
    "## Matrix Inversion (using numpy.linalg)"
   ]
  },
  {
   "cell_type": "markdown",
   "id": "4262e607",
   "metadata": {},
   "source": [
    "##### linagl --> linear algebra, a module for operations like inversion, determinant, eigenvalues, etc."
   ]
  },
  {
   "cell_type": "code",
   "execution_count": null,
   "id": "5fb14115",
   "metadata": {},
   "outputs": [],
   "source": [
    "import numpy as np\n",
    "import numpy.linalg as la\n",
    "\n",
    "matrix = np.array([[1, 2, 3], \n",
    "                   [4, 5, 6], \n",
    "                   [7, 8, 9]])\n",
    "\n",
    "# Calculate and print the inverse of the matrix\n",
    "# Note: This matrix is singular and does NOT have an inverse, so this will raise an error\n",
    "print(la.inv(matrix))  \n",
    "\n",
    "# Compute eigenvalues and eigenvectors\n",
    "eigenvalues, eigenvectors = la.eig(matrix)\n",
    "\n",
    "print(\"Eigenvalues:\", eigenvalues)\n",
    "print(\"Eigenvectors:\\n\", eigenvectors)\n",
    "\n",
    "# Alternatively, you could print both together like this:\n",
    "# print(la.eig(matrix))\n"
   ]
  },
  {
   "cell_type": "markdown",
   "id": "22daf23f",
   "metadata": {},
   "source": [
    "## Views & Copies"
   ]
  },
  {
   "cell_type": "markdown",
   "id": "98714129",
   "metadata": {},
   "source": [
    "##### View: When slicing, we get a view by default (shared data) (actual change of array)\n",
    "\n",
    "##### Copy: Does not change actual array (use .copy)"
   ]
  },
  {
   "cell_type": "code",
   "execution_count": null,
   "id": "a4ffb07a",
   "metadata": {},
   "outputs": [],
   "source": [
    "# View\n",
    "\n",
    "Arr = np.arange(26)\n",
    "# print(Arr)\n",
    "\n",
    "b = Arr[2:7]\n",
    "print(b)\n",
    "\n",
    "b[0] = -1200\n",
    "print(b)\n",
    "\n",
    "print(Arr)  # altering b also changed Arr"
   ]
  },
  {
   "cell_type": "code",
   "execution_count": null,
   "id": "9a0452e6",
   "metadata": {},
   "outputs": [],
   "source": [
    "# Copy\n",
    "\n",
    "Arr = np.arange(26)\n",
    "# print(Arr)\n",
    "\n",
    "b = Arr[2:7].copy()\n",
    "print(b)\n",
    "\n",
    "b[0] = -1200\n",
    "print(b)\n",
    "\n",
    "print(Arr)  # altering b also changed Arr"
   ]
  },
  {
   "cell_type": "markdown",
   "id": "411f2d89",
   "metadata": {},
   "source": [
    "## Slicing Tricks"
   ]
  },
  {
   "cell_type": "code",
   "execution_count": null,
   "id": "5233542a",
   "metadata": {},
   "outputs": [],
   "source": [
    "array = np.arange(101)\n",
    "print(array)\n",
    "\n",
    "# array[::n]  --> n step slicing\n",
    "print(array[::3])\n",
    "\n",
    "# array[::-n]  --> backward every n step\n",
    "print(array[::-3])\n",
    "\n",
    "# array[::-1]  --> Reverses an array\n",
    "print(array[::-1])"
   ]
  },
  {
   "cell_type": "markdown",
   "id": "c0f69c33",
   "metadata": {},
   "source": [
    "## Finding and Modifying elements"
   ]
  },
  {
   "cell_type": "markdown",
   "id": "62d4ede7",
   "metadata": {},
   "source": [
    "##### `np.argwhere(condition)` returns indices where the condition is true"
   ]
  },
  {
   "cell_type": "code",
   "execution_count": null,
   "id": "b03c3195",
   "metadata": {},
   "outputs": [],
   "source": [
    "array = np.arange(101)\n",
    "\n",
    "index = np.argwhere(array % 5 == 0)\n",
    "array[index] = -10\n",
    "print(array)"
   ]
  },
  {
   "cell_type": "markdown",
   "id": "c652a0a1",
   "metadata": {},
   "source": [
    "## Accessing Rows And Columns of an matrix"
   ]
  },
  {
   "cell_type": "code",
   "execution_count": null,
   "id": "323179ca",
   "metadata": {},
   "outputs": [],
   "source": [
    "Mat = np.round(10 * np.random.rand(5, 4)).astype(int)  # --> similar as randint\n",
    "print(Mat)\n",
    "print(Mat[1, 2])  # same as print(Mat[1][2])\n",
    "print(Mat[1, :])  # prints full row\n",
    "print(Mat[:, 1])  # prints full column\n",
    "print(Mat[1:3, 2:4])  # print specific sub-matrix"
   ]
  },
  {
   "cell_type": "markdown",
   "id": "cf5151a8",
   "metadata": {},
   "source": [
    "# Transpose arrays\n",
    "\n",
    "##### --> Rows converted in columns, and vice versa"
   ]
  },
  {
   "cell_type": "code",
   "execution_count": null,
   "id": "b0d4d0ed",
   "metadata": {},
   "outputs": [],
   "source": [
    "import numpy as np\n",
    "\n",
    "Mat = np.round(10 * np.random.rand(5, 4)).astype(int) \n",
    "arr = np.arange(7)\n",
    "print(arr.T)\n",
    "#.T for transpose\n",
    "print(Mat)  # Original Matrix\n",
    "print(Mat.T)  # Transpose\n"
   ]
  },
  {
   "cell_type": "markdown",
   "id": "1cc84b80",
   "metadata": {},
   "source": [
    "# Sorting Arrays "
   ]
  },
  {
   "cell_type": "markdown",
   "id": "560bbd6f",
   "metadata": {},
   "source": [
    "- `axis = 0` => Sorts columns\n",
    "- `axis = 1` => Sorts rows"
   ]
  },
  {
   "cell_type": "code",
   "execution_count": null,
   "id": "2c7345f4",
   "metadata": {},
   "outputs": [],
   "source": [
    "# np.sort for sorting\n",
    "\n",
    "arr1d = np.array([5, 2, 9, 1, 7])  \n",
    "sortedArr = np.sort(arr1d) # Ascending order\n",
    "print(sortedArr)  # [1, 2, 5, 7, 9]  , indexes --> [3, 1, 0, 4, 2]\n",
    "\n",
    "sortedDesc = np.sort(arr1d)[::-1]  # Descending order\n",
    "print(sortedDesc)  # [9, 7, 5, 2, 1]\n",
    "\n",
    "\n",
    "# 2D arrays\n",
    "\n",
    "arr2D = np.array([[8, 4],\n",
    "                 [3, 9],\n",
    "                 [2, 7],\n",
    "                 [5, 1]])\n",
    "\n",
    "\n",
    "# Sort each col (axis = 0)\n",
    "\n",
    "sortedCol = np.sort(arr2D, axis = 0)\n",
    "print(sortedCol)\n",
    "\n",
    "# Sort each row (axis = 1)\n",
    "sortedRow = np.sort(arr2D, axis = 1)\n",
    "print(sortedRow)\n",
    "\n",
    "# indices that will sort array\n",
    "index = np.argsort(arr1d)\n",
    "print(index)  \n",
    "\n",
    "print(arr1d[index])"
   ]
  },
  {
   "cell_type": "markdown",
   "id": "3ee031c4",
   "metadata": {},
   "source": [
    "# Fancy Indexing"
   ]
  },
  {
   "cell_type": "markdown",
   "id": "4110f012",
   "metadata": {},
   "source": [
    "##### Give values according to the index"
   ]
  },
  {
   "cell_type": "code",
   "execution_count": null,
   "id": "fb261c37",
   "metadata": {},
   "outputs": [],
   "source": [
    "import numpy as np\n",
    "\n",
    "arr = np.array([10, 20, 30, 40, 50])\n",
    "\n",
    "# Pick specific elements\n",
    "indices = [0, 2, 4]\n",
    "print(arr[indices])  # [10 30 50]\n",
    "\n",
    "# even repeat indices\n",
    "print(arr[[1, 1, 3]])  # [20 20 40]\n",
    "\n",
    "arr2d = np.array([[11, 12, 13],\n",
    "                  [21, 22, 23],\n",
    "                  [31, 32, 33]])\n",
    "\n",
    "# Select specific rows\n",
    "print(arr2d[[0, 2]])  \n",
    "# [[11 12 13]\n",
    "#  [31 32 33]]\n",
    "\n",
    "# Select specific columns\n",
    "print(arr2d[:, [0, 2]])  \n",
    "\n",
    "# Select specific (row, col) pairs\n",
    "print(arr2d[[0, 2], [1, 0]])  \n",
    "# Picks (0,1) → 12 and (2,0) → 31 → [12 31]\n"
   ]
  },
  {
   "cell_type": "markdown",
   "id": "30916263",
   "metadata": {},
   "source": [
    "# Boolean Indexing"
   ]
  },
  {
   "cell_type": "markdown",
   "id": "527d408e",
   "metadata": {},
   "source": [
    "##### Uses Relational operations\n"
   ]
  },
  {
   "cell_type": "code",
   "execution_count": null,
   "id": "e674320a",
   "metadata": {},
   "outputs": [],
   "source": [
    "\n",
    "# Example 1D array (make sure arr1d is defined first)\n",
    "arr1d = np.array([1, 3, 5, 7, 9])\n",
    "print(arr1d)  # Print the original 1D array\n",
    "\n",
    "# Create an array with values from 0 to 29\n",
    "arr = np.arange(30)\n",
    "print(arr)  \n",
    "\n",
    "# Boolean indexing: select elements from arr1d that are <= 5\n",
    "b = arr1d[arr1d <= 5]\n",
    "print(b)  # Only values 1, 3, 5 will remain\n",
    "\n",
    "# Boolean indexing: select elements from arr that are < 15\n",
    "c = arr[arr < 15]\n",
    "print(c)  # Output will be [ 0  1  2 ... 14]\n"
   ]
  },
  {
   "cell_type": "markdown",
   "id": "35586097",
   "metadata": {},
   "source": [
    "# Random Permutations & Shuffling"
   ]
  },
  {
   "cell_type": "code",
   "execution_count": null,
   "id": "d3e7f85c",
   "metadata": {},
   "outputs": [],
   "source": [
    "# Create an array with values from 0 to 29\n",
    "arr = np.arange(30)\n",
    "print(arr)  \n",
    "\n",
    "# Randomly permute (shuffle) the elements, returning a COPY\n",
    "rp = np.random.permutation(arr)   # Original array remains unchanged\n",
    "print(rp)  # random num from 0-29\n",
    "print(arr)  \n",
    "# Output: Original order still [0 1 2 ... 29]\n",
    "\n",
    "# Shuffle IN-PLACE (modifies the original array)\n",
    "np.random.shuffle(arr)  \n",
    "print(arr)  \n",
    "# Output: Original array is now randomly arranged"
   ]
  },
  {
   "cell_type": "markdown",
   "id": "76906b44",
   "metadata": {},
   "source": [
    "# Sorting Strings"
   ]
  },
  {
   "cell_type": "code",
   "execution_count": null,
   "id": "ba778441",
   "metadata": {},
   "outputs": [],
   "source": [
    "arr = np.array(['abc', 'Howareyou', 'u786', '13er'])   # According to ASCII table\n",
    "arr.sort() # Sorts the strings\n",
    "print(arr)  # output --> ['13er', 'HowareYou', 'abc', 'u786'] "
   ]
  },
  {
   "cell_type": "markdown",
   "id": "0df809ad",
   "metadata": {},
   "source": [
    "# Stacking & Splitting"
   ]
  },
  {
   "cell_type": "markdown",
   "id": "3584da58",
   "metadata": {},
   "source": [
    "- Stacking means combining two arrays\n",
    "- Splitting means breaking an array into two or more arrays"
   ]
  },
  {
   "cell_type": "code",
   "execution_count": null,
   "id": "1f5a749d",
   "metadata": {},
   "outputs": [],
   "source": [
    "import numpy as np\n",
    "\n",
    "a = np.array([[1, 2],\n",
    "              [3, 4]])\n",
    "b = np.array([[5, 6],\n",
    "              [7, 8]])\n",
    "\n",
    "# Stacking arrays\n",
    "print(f\"Vertical Stack: \\n{np.vstack((a, b))}\")     # Stack arrays vertically (row-wise)\n",
    "print(f\"Horizontal Stack: \\n{np.hstack((a, b))}\")   # Stack arrays horizontally (column-wise)\n",
    "print(f\"Depth Stack: \\n{np.dstack((a, b))}\")        # Stack along depth (adds new 3rd axis)\n",
    "\n",
    "# Splitting arrays\n",
    "array = np.arange(30)\n",
    "arr = np.split(array, 5)      # Split 1D array into 5 equal parts\n",
    "print(arr)\n",
    "print()\n",
    "\n",
    "# Example 2D array for splitting\n",
    "arr2D = np.arange(16).reshape(4, 4)\n",
    "print(arr2D)\n",
    "\n",
    "hSplit = np.hsplit(arr2D, 2)  # Split into 2 parts horizontally (by columns)\n",
    "print(hSplit)\n",
    "\n",
    "vSplit = np.vsplit(arr2D, 2)  # Split into 2 parts vertically (by rows)\n",
    "print(vSplit)\n"
   ]
  },
  {
   "cell_type": "markdown",
   "id": "f514c918",
   "metadata": {},
   "source": [
    "# Structured Arrays"
   ]
  },
  {
   "cell_type": "code",
   "execution_count": null,
   "id": "be4cfa25",
   "metadata": {},
   "outputs": [],
   "source": [
    "# Define a structured data type: name (string up to 10 chars), age (int32), height (float32)\n",
    "dt = np.dtype([('name', 'U10'), ('age', 'i4'), ('height', 'f4')])\n",
    "\n",
    "# Create a NumPy structured array with that data type\n",
    "people = np.array([\n",
    "    ('Talal', 18, 5.9),\n",
    "    ('Ahmad', 19, 5.8),\n",
    "    ('Faiqa', 17, 5.5)\n",
    "], dtype=dt)\n",
    "\n",
    "print(people)          # Full structured array\n",
    "print(people['name'])  # Only the 'name' column\n",
    "print(people['age'])   # Only the 'age' column\n",
    "print(people['height'])# Only the 'height' column\n"
   ]
  },
  {
   "cell_type": "markdown",
   "id": "8c613e88",
   "metadata": {},
   "source": [
    "# Conclusion\n",
    "In this notebook, we explored:\n",
    "- Creating and manipulating arrays\n",
    "- Indexing, slicing, and fancy indexing\n",
    "- Sorting, stacking, and splitting arrays\n",
    "- Random number generation & shuffling\n",
    "- Structured arrays\n",
    "\n",
    "NumPy is the foundation for data science libraries like Pandas, Scikit-Learn and others, so mastering it sets the stage for deeper analysis.\n"
   ]
  },
  {
   "cell_type": "markdown",
   "id": "089b8d42",
   "metadata": {},
   "source": [
    "---\n",
    "\n",
    "##  Next Steps\n",
    "Now that NumPy fundamentals are complete, the journey continues with:\n",
    "- **Pandas** → DataFrames, data cleaning, and real-world datasets\n",
    "- **Matplotlib / Seaborn** → Visualizing patterns and trends\n",
    "- **Mini Projects** → Applying NumPy + Pandas to solve problems (CSV analysis, sports stats, expenses tracking)\n",
    "- Gradually moving toward **Machine Learning** with Scikit-learn\n",
    "\n",
    "NumPy is the backbone — everything else will build on these concepts.\n",
    "\n",
    "---\n",
    "\n",
    "### **Author:** Hafiz Muhammad Talal  \n",
    " *Completed on: 11-Aug-2025*\n",
    "  Email: muhammadtala20201@gmail.com  \n",
    "  LinkedIn: [linkedin.com/in/talalhafizmuhammad](https://linkedin.com/in/talalhafizmuhammad)  \n",
    "  GitHub: [github.com/talalhafizmuhammad](https://github.com/talalhafizmuhammad)\n",
    "\n",
    "\n",
    "---\n"
   ]
  }
 ],
 "metadata": {
  "kernelspec": {
   "display_name": "base",
   "language": "python",
   "name": "python3"
  },
  "language_info": {
   "codemirror_mode": {
    "name": "ipython",
    "version": 3
   },
   "file_extension": ".py",
   "mimetype": "text/x-python",
   "name": "python",
   "nbconvert_exporter": "python",
   "pygments_lexer": "ipython3",
   "version": "3.12.7"
  }
 },
 "nbformat": 4,
 "nbformat_minor": 5
}

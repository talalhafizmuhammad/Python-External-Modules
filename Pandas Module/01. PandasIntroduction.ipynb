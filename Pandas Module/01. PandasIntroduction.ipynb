{
 "cells": [
  {
   "cell_type": "markdown",
   "id": "9ae01ade",
   "metadata": {},
   "source": [
    "# Pandas Series and Notebooks\n"
   ]
  },
  {
   "cell_type": "markdown",
   "id": "029bfa58",
   "metadata": {},
   "source": [
    "##### Developed in 2008 by Wes Meckeney, while working in a private company\n"
   ]
  },
  {
   "cell_type": "markdown",
   "id": "bf1fd72e",
   "metadata": {},
   "source": [
    "### UseCases\n",
    "\n",
    "- Data cleaning\n",
    "- Data analysis\n",
    "- Data transformation\n",
    "- Data Visualization (Basic)\n",
    "- Data Aggression\n",
    "- File Handling\n",
    "- Data filtering and selection\n",
    "- Time series analysis"
   ]
  },
  {
   "cell_type": "markdown",
   "id": "da76b83b",
   "metadata": {},
   "source": [
    "### Index\n",
    "\n",
    "- Series\n",
    "- DataFrames\n",
    "- Missing Data\n",
    "- Merging, joining, concatenating\n",
    "- GroupBy and Aggregations\n",
    "- Pivot Tables and crosstabs\n",
    "- Operations\n",
    "- Working with real data\n",
    "- Some Capstone projects"
   ]
  },
  {
   "cell_type": "code",
   "execution_count": 1,
   "id": "5cf246b8",
   "metadata": {},
   "outputs": [],
   "source": [
    "import numpy as np\n",
    "import pandas as pd"
   ]
  }
 ],
 "metadata": {
  "kernelspec": {
   "display_name": "base",
   "language": "python",
   "name": "python3"
  },
  "language_info": {
   "codemirror_mode": {
    "name": "ipython",
    "version": 3
   },
   "file_extension": ".py",
   "mimetype": "text/x-python",
   "name": "python",
   "nbconvert_exporter": "python",
   "pygments_lexer": "ipython3",
   "version": "3.12.7"
  }
 },
 "nbformat": 4,
 "nbformat_minor": 5
}

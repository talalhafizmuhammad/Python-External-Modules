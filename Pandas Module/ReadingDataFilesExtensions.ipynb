{
 "cells": [
  {
   "cell_type": "markdown",
   "id": "3f277dda",
   "metadata": {},
   "source": [
    "# Pandas Supporting Files "
   ]
  },
  {
   "cell_type": "markdown",
   "id": "751f19fc",
   "metadata": {},
   "source": [
    "### Pandas support multiple files for data extraction, cleaning, visualization, etc. Like:-"
   ]
  },
  {
   "cell_type": "markdown",
   "id": "aea2160a",
   "metadata": {},
   "source": [
    "- CSV: `.csv`  **as**  `pd.read_csv(file.csv)`\n",
    "\n",
    "- Excel:  `.xls`or`.xlsx`   **as**   `pd.read_excel(file.xlsx)`\n",
    "\n",
    "- JSON: `.json`   **as**   `pd.read_json(file.json)`\n",
    "\n",
    "- Text file: `.txt`   **as**   `pd.read_csv(file.txt, delimeter = ' ')` (or other delimeter)\n",
    "\n",
    "- TSV: `.tsf`   **as**   `pd.read_csv(file.csv, sep = '\\t')`\n",
    "\n",
    "- HTML: `.html`   **as**   `pd.read_html(file.html)`\n",
    "\n",
    "- SQL DBs: `.sql`, `.db`, etc   **as**   `pd.read_sql(query, connection)`\n",
    "\n",
    "- Parquet: `.parquet`   **as**   `pd.read_parquet(file.parquet)`\n",
    "\n",
    "- Feather: `.feather`   **as**   `pd.read_feather(file.feather)`\n",
    "\n",
    "- Pickle: `.pkl`, `.pickle`   **as**   `pd.read_pickle(file.pkl)`\n",
    "\n",
    "- HDF5: `.h5`   **as**   `pd.read_hdf(file.h5)`\n",
    "\n",
    "- ORC: `.orc`  **via**  `pyarrow.orc` or `pandas.read_orc()` (pandas 1.5+)\n",
    "\n",
    "- Google Sheets: `URL`  **using**  `gspread`, `pandas + API`\n",
    "\n",
    "\n"
   ]
  }
 ],
 "metadata": {
  "language_info": {
   "name": "python"
  }
 },
 "nbformat": 4,
 "nbformat_minor": 5
}

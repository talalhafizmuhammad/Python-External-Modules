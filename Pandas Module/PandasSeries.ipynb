{
 "cells": [
  {
   "cell_type": "code",
   "execution_count": 1,
   "id": "e42ffb12",
   "metadata": {},
   "outputs": [],
   "source": [
    "import numpy as np\n",
    "import pandas as pd"
   ]
  },
  {
   "cell_type": "markdown",
   "id": "f028123f",
   "metadata": {},
   "source": [
    "## Creating Series"
   ]
  },
  {
   "cell_type": "markdown",
   "id": "b9738edc",
   "metadata": {},
   "source": [
    "##### Series are 1D arrays capable of holding any type of data. The axis labels are collectively called the index. They are in vertical format."
   ]
  },
  {
   "cell_type": "code",
   "execution_count": null,
   "id": "c0ced057",
   "metadata": {},
   "outputs": [],
   "source": [
    "# Multiple ways to create series\n",
    "\n",
    "labels = ['a', 'b', 'c']\n",
    "myLists = [10, 20, 30]\n",
    "array = np.array([30, 40, 50])\n",
    "dic = {1: 25, 2: 50, 3: 44}"
   ]
  },
  {
   "cell_type": "code",
   "execution_count": null,
   "id": "a1dcbccc",
   "metadata": {},
   "outputs": [],
   "source": [
    "# Simple series with labels (index): datapoints (created from list)\n",
    "\n",
    "pd.Series(myLists) # 0, 1, 2 are labels.... and values are data points"
   ]
  },
  {
   "cell_type": "code",
   "execution_count": null,
   "id": "612f97c3",
   "metadata": {},
   "outputs": [],
   "source": [
    "# Custom labels\n",
    "\n",
    "pd.Series(myLists, index = labels)"
   ]
  },
  {
   "cell_type": "code",
   "execution_count": null,
   "id": "74fd3238",
   "metadata": {},
   "outputs": [],
   "source": [
    "# Creating series from an array\n",
    "\n",
    "pd.Series(array)"
   ]
  },
  {
   "cell_type": "code",
   "execution_count": null,
   "id": "80279bbb",
   "metadata": {},
   "outputs": [],
   "source": [
    "# creating series from dictionary\n",
    "\n",
    "pd.Series(dic)"
   ]
  }
 ],
 "metadata": {
  "kernelspec": {
   "display_name": "base",
   "language": "python",
   "name": "python3"
  },
  "language_info": {
   "codemirror_mode": {
    "name": "ipython",
    "version": 3
   },
   "file_extension": ".py",
   "mimetype": "text/x-python",
   "name": "python",
   "nbconvert_exporter": "python",
   "pygments_lexer": "ipython3",
   "version": "3.12.7"
  }
 },
 "nbformat": 4,
 "nbformat_minor": 5
}

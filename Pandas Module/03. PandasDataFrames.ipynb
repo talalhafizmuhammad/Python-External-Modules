{
 "cells": [
  {
   "cell_type": "code",
   "execution_count": 4,
   "id": "80431ce0",
   "metadata": {},
   "outputs": [],
   "source": [
    "import numpy as np\n",
    "import pandas as pd"
   ]
  },
  {
   "cell_type": "markdown",
   "id": "582e1852",
   "metadata": {},
   "source": [
    "# Data Frames"
   ]
  },
  {
   "cell_type": "markdown",
   "id": "2e714644",
   "metadata": {},
   "source": [
    "### Combination of multiple series ---> DataFrame"
   ]
  },
  {
   "cell_type": "markdown",
   "id": "f69645df",
   "metadata": {},
   "source": [
    "- Creating a dataframe\n",
    "- Selection and indexing of columns\n",
    "- Creating a new column\n",
    "- Removing a  column\n",
    "- Selecting rows\n",
    "- Selecting subsets of rows and columns\n",
    "- Conditional selections"
   ]
  },
  {
   "cell_type": "markdown",
   "id": "edd1c26a",
   "metadata": {},
   "source": [
    "#### Creating a DataFrame"
   ]
  },
  {
   "cell_type": "code",
   "execution_count": 15,
   "id": "135a3a0c",
   "metadata": {},
   "outputs": [
    {
     "data": {
      "text/html": [
       "<div>\n",
       "<style scoped>\n",
       "    .dataframe tbody tr th:only-of-type {\n",
       "        vertical-align: middle;\n",
       "    }\n",
       "\n",
       "    .dataframe tbody tr th {\n",
       "        vertical-align: top;\n",
       "    }\n",
       "\n",
       "    .dataframe thead th {\n",
       "        text-align: right;\n",
       "    }\n",
       "</style>\n",
       "<table border=\"1\" class=\"dataframe\">\n",
       "  <thead>\n",
       "    <tr style=\"text-align: right;\">\n",
       "      <th></th>\n",
       "      <th>Name</th>\n",
       "      <th>Age</th>\n",
       "      <th>City</th>\n",
       "      <th>Salary</th>\n",
       "    </tr>\n",
       "  </thead>\n",
       "  <tbody>\n",
       "    <tr>\n",
       "      <th>MSSF001</th>\n",
       "      <td>Talal</td>\n",
       "      <td>18</td>\n",
       "      <td>Lahore</td>\n",
       "      <td>170000</td>\n",
       "    </tr>\n",
       "    <tr>\n",
       "      <th>MSSF002</th>\n",
       "      <td>Ahmad</td>\n",
       "      <td>19</td>\n",
       "      <td>Islamabad</td>\n",
       "      <td>65000</td>\n",
       "    </tr>\n",
       "    <tr>\n",
       "      <th>MSSF003</th>\n",
       "      <td>Faiqa</td>\n",
       "      <td>17</td>\n",
       "      <td>Karachi</td>\n",
       "      <td>82000</td>\n",
       "    </tr>\n",
       "    <tr>\n",
       "      <th>MSSF004</th>\n",
       "      <td>Ali</td>\n",
       "      <td>21</td>\n",
       "      <td>Peshawar</td>\n",
       "      <td>115000</td>\n",
       "    </tr>\n",
       "  </tbody>\n",
       "</table>\n",
       "</div>"
      ],
      "text/plain": [
       "          Name  Age       City  Salary\n",
       "MSSF001  Talal   18     Lahore  170000\n",
       "MSSF002  Ahmad   19  Islamabad   65000\n",
       "MSSF003  Faiqa   17    Karachi   82000\n",
       "MSSF004    Ali   21   Peshawar  115000"
      ]
     },
     "execution_count": 15,
     "metadata": {},
     "output_type": "execute_result"
    }
   ],
   "source": [
    "i = ['MSSF001', 'MSSF002', 'MSSF003', 'MSSF004']\n",
    "dataDict = {\n",
    "    'Name': ['Talal', 'Ahmad', 'Faiqa', 'Ali'],\n",
    "    'Age': [18, 19, 17, 21],\n",
    "    'City': ['Lahore', 'Islamabad', 'Karachi', 'Peshawar'],\n",
    "    'Salary': [170000, 65000, 82000, 115000]\n",
    "}\n",
    "\n",
    "# Creating a DataFrame using dictionary\n",
    "df = pd.DataFrame(dataDict, index=i)\n",
    "df"
   ]
  },
  {
   "cell_type": "code",
   "execution_count": 6,
   "id": "74bf9885",
   "metadata": {},
   "outputs": [
    {
     "data": {
      "text/html": [
       "<div>\n",
       "<style scoped>\n",
       "    .dataframe tbody tr th:only-of-type {\n",
       "        vertical-align: middle;\n",
       "    }\n",
       "\n",
       "    .dataframe tbody tr th {\n",
       "        vertical-align: top;\n",
       "    }\n",
       "\n",
       "    .dataframe thead th {\n",
       "        text-align: right;\n",
       "    }\n",
       "</style>\n",
       "<table border=\"1\" class=\"dataframe\">\n",
       "  <thead>\n",
       "    <tr style=\"text-align: right;\">\n",
       "      <th></th>\n",
       "      <th>Name</th>\n",
       "      <th>Age</th>\n",
       "      <th>City</th>\n",
       "      <th>Salary</th>\n",
       "    </tr>\n",
       "  </thead>\n",
       "  <tbody>\n",
       "    <tr>\n",
       "      <th>MSSF001</th>\n",
       "      <td>Talal</td>\n",
       "      <td>18</td>\n",
       "      <td>Lahore</td>\n",
       "      <td>170000</td>\n",
       "    </tr>\n",
       "    <tr>\n",
       "      <th>MSSF002</th>\n",
       "      <td>Ahmad</td>\n",
       "      <td>19</td>\n",
       "      <td>Islamabad</td>\n",
       "      <td>65000</td>\n",
       "    </tr>\n",
       "    <tr>\n",
       "      <th>MSSF003</th>\n",
       "      <td>Faiqa</td>\n",
       "      <td>17</td>\n",
       "      <td>Karachi</td>\n",
       "      <td>82000</td>\n",
       "    </tr>\n",
       "    <tr>\n",
       "      <th>MSSF004</th>\n",
       "      <td>Ali</td>\n",
       "      <td>21</td>\n",
       "      <td>Peshawar</td>\n",
       "      <td>115000</td>\n",
       "    </tr>\n",
       "  </tbody>\n",
       "</table>\n",
       "</div>"
      ],
      "text/plain": [
       "          Name  Age       City  Salary\n",
       "MSSF001  Talal   18     Lahore  170000\n",
       "MSSF002  Ahmad   19  Islamabad   65000\n",
       "MSSF003  Faiqa   17    Karachi   82000\n",
       "MSSF004    Ali   21   Peshawar  115000"
      ]
     },
     "execution_count": 6,
     "metadata": {},
     "output_type": "execute_result"
    }
   ],
   "source": [
    "i = ['MSSF001', 'MSSF002', 'MSSF003', 'MSSF004']\n",
    "data = [\n",
    "    ['Talal', 18, 'Lahore', 170000],\n",
    "    ['Ahmad', 19, 'Islamabad', 65000],\n",
    "    ['Faiqa', 17, 'Karachi', 82000],\n",
    "    ['Ali', 21, 'Peshawar', 115000]\n",
    "]\n",
    "\n",
    "# Creating a DataFrame using List\n",
    "Col = ['Name', 'Age' ,'City', 'Salary']\n",
    "df2 = pd.DataFrame(data, index = i, columns = Col)\n",
    "df2"
   ]
  },
  {
   "cell_type": "markdown",
   "id": "fb4a3e5e",
   "metadata": {},
   "source": [
    "### Selecting and Indexing of columns\n"
   ]
  },
  {
   "cell_type": "code",
   "execution_count": 7,
   "id": "0277b00f",
   "metadata": {},
   "outputs": [
    {
     "name": "stdout",
     "output_type": "stream",
     "text": [
      "MSSF001    18\n",
      "MSSF002    19\n",
      "MSSF003    17\n",
      "MSSF004    21\n",
      "Name: Age, dtype: int64\n",
      "          Name  Salary\n",
      "MSSF001  Talal  170000\n",
      "MSSF002  Ahmad   65000\n",
      "MSSF003  Faiqa   82000\n",
      "MSSF004    Ali  115000\n"
     ]
    }
   ],
   "source": [
    "col1 = df['Age'] # for one column\n",
    "print(col1)\n",
    "col = df2[['Name', 'Salary']] # for more than one columns\n",
    "print(col)"
   ]
  },
  {
   "cell_type": "markdown",
   "id": "943b637a",
   "metadata": {},
   "source": [
    "### Creating a new column"
   ]
  },
  {
   "cell_type": "code",
   "execution_count": 17,
   "id": "fe0f90df",
   "metadata": {},
   "outputs": [
    {
     "data": {
      "text/html": [
       "<div>\n",
       "<style scoped>\n",
       "    .dataframe tbody tr th:only-of-type {\n",
       "        vertical-align: middle;\n",
       "    }\n",
       "\n",
       "    .dataframe tbody tr th {\n",
       "        vertical-align: top;\n",
       "    }\n",
       "\n",
       "    .dataframe thead th {\n",
       "        text-align: right;\n",
       "    }\n",
       "</style>\n",
       "<table border=\"1\" class=\"dataframe\">\n",
       "  <thead>\n",
       "    <tr style=\"text-align: right;\">\n",
       "      <th></th>\n",
       "      <th>Name</th>\n",
       "      <th>Age</th>\n",
       "      <th>City</th>\n",
       "      <th>Salary</th>\n",
       "      <th>Designation</th>\n",
       "    </tr>\n",
       "  </thead>\n",
       "  <tbody>\n",
       "    <tr>\n",
       "      <th>MSSF001</th>\n",
       "      <td>Talal</td>\n",
       "      <td>18</td>\n",
       "      <td>Lahore</td>\n",
       "      <td>170000</td>\n",
       "      <td>CyberPunk</td>\n",
       "    </tr>\n",
       "    <tr>\n",
       "      <th>MSSF002</th>\n",
       "      <td>Ahmad</td>\n",
       "      <td>19</td>\n",
       "      <td>Islamabad</td>\n",
       "      <td>65000</td>\n",
       "      <td>Engineer</td>\n",
       "    </tr>\n",
       "    <tr>\n",
       "      <th>MSSF003</th>\n",
       "      <td>Faiqa</td>\n",
       "      <td>17</td>\n",
       "      <td>Karachi</td>\n",
       "      <td>82000</td>\n",
       "      <td>Doctor</td>\n",
       "    </tr>\n",
       "    <tr>\n",
       "      <th>MSSF004</th>\n",
       "      <td>Ali</td>\n",
       "      <td>21</td>\n",
       "      <td>Peshawar</td>\n",
       "      <td>115000</td>\n",
       "      <td>Pilot</td>\n",
       "    </tr>\n",
       "  </tbody>\n",
       "</table>\n",
       "</div>"
      ],
      "text/plain": [
       "          Name  Age       City  Salary Designation\n",
       "MSSF001  Talal   18     Lahore  170000   CyberPunk\n",
       "MSSF002  Ahmad   19  Islamabad   65000    Engineer\n",
       "MSSF003  Faiqa   17    Karachi   82000      Doctor\n",
       "MSSF004    Ali   21   Peshawar  115000       Pilot"
      ]
     },
     "execution_count": 17,
     "metadata": {},
     "output_type": "execute_result"
    }
   ],
   "source": [
    "# for creating a new column, dataframe_name['name_of_new_column'] = [values_equal_to_num_of_rows]\n",
    "\n",
    "df['Designation'] = ['CyberPunk', 'Engineer', 'Doctor', 'Pilot'] # Here must 4 values, since rows are 4\n",
    "df"
   ]
  },
  {
   "cell_type": "markdown",
   "id": "decd0d21",
   "metadata": {},
   "source": [
    "### Removing a column"
   ]
  },
  {
   "cell_type": "code",
   "execution_count": 9,
   "id": "1b75f4b1",
   "metadata": {},
   "outputs": [
    {
     "data": {
      "text/html": [
       "<div>\n",
       "<style scoped>\n",
       "    .dataframe tbody tr th:only-of-type {\n",
       "        vertical-align: middle;\n",
       "    }\n",
       "\n",
       "    .dataframe tbody tr th {\n",
       "        vertical-align: top;\n",
       "    }\n",
       "\n",
       "    .dataframe thead th {\n",
       "        text-align: right;\n",
       "    }\n",
       "</style>\n",
       "<table border=\"1\" class=\"dataframe\">\n",
       "  <thead>\n",
       "    <tr style=\"text-align: right;\">\n",
       "      <th></th>\n",
       "      <th>Name</th>\n",
       "      <th>City</th>\n",
       "      <th>Salary</th>\n",
       "    </tr>\n",
       "  </thead>\n",
       "  <tbody>\n",
       "    <tr>\n",
       "      <th>MSSF001</th>\n",
       "      <td>Talal</td>\n",
       "      <td>Lahore</td>\n",
       "      <td>170000</td>\n",
       "    </tr>\n",
       "    <tr>\n",
       "      <th>MSSF003</th>\n",
       "      <td>Faiqa</td>\n",
       "      <td>Karachi</td>\n",
       "      <td>82000</td>\n",
       "    </tr>\n",
       "    <tr>\n",
       "      <th>MSSF004</th>\n",
       "      <td>Ali</td>\n",
       "      <td>Peshawar</td>\n",
       "      <td>115000</td>\n",
       "    </tr>\n",
       "  </tbody>\n",
       "</table>\n",
       "</div>"
      ],
      "text/plain": [
       "          Name      City  Salary\n",
       "MSSF001  Talal    Lahore  170000\n",
       "MSSF003  Faiqa   Karachi   82000\n",
       "MSSF004    Ali  Peshawar  115000"
      ]
     },
     "execution_count": 9,
     "metadata": {},
     "output_type": "execute_result"
    }
   ],
   "source": [
    "# To remove a created column\n",
    "\n",
    "df2.drop('Age', axis = 1) # Just drop the column as a copy, original one remains same\n",
    "df2  # Have 'Age' column\n",
    "\n",
    "# For permanent drop of column...\n",
    "df2.drop('Age', axis = 1, inplace = True) #Removed 'Age' in original also\n",
    "df2\n",
    "\n",
    "# For multiple drops\n",
    "df.drop(['Name', 'Age', 'Designation'], axis = 1, inplace = True)\n",
    "\n",
    "# For removing row\n",
    "df2.drop('MSSF002', axis = 0)\n",
    "\n",
    "# DEFAULT AXIS = 0"
   ]
  },
  {
   "cell_type": "markdown",
   "id": "5e77a441",
   "metadata": {},
   "source": [
    "### Selecting Rows"
   ]
  },
  {
   "cell_type": "code",
   "execution_count": 10,
   "id": "9eb3e2ab",
   "metadata": {},
   "outputs": [
    {
     "data": {
      "text/html": [
       "<div>\n",
       "<style scoped>\n",
       "    .dataframe tbody tr th:only-of-type {\n",
       "        vertical-align: middle;\n",
       "    }\n",
       "\n",
       "    .dataframe tbody tr th {\n",
       "        vertical-align: top;\n",
       "    }\n",
       "\n",
       "    .dataframe thead th {\n",
       "        text-align: right;\n",
       "    }\n",
       "</style>\n",
       "<table border=\"1\" class=\"dataframe\">\n",
       "  <thead>\n",
       "    <tr style=\"text-align: right;\">\n",
       "      <th></th>\n",
       "      <th>City</th>\n",
       "      <th>Salary</th>\n",
       "    </tr>\n",
       "  </thead>\n",
       "  <tbody>\n",
       "    <tr>\n",
       "      <th>MSSF001</th>\n",
       "      <td>Lahore</td>\n",
       "      <td>170000</td>\n",
       "    </tr>\n",
       "    <tr>\n",
       "      <th>MSSF004</th>\n",
       "      <td>Peshawar</td>\n",
       "      <td>115000</td>\n",
       "    </tr>\n",
       "  </tbody>\n",
       "</table>\n",
       "</div>"
      ],
      "text/plain": [
       "             City  Salary\n",
       "MSSF001    Lahore  170000\n",
       "MSSF004  Peshawar  115000"
      ]
     },
     "execution_count": 10,
     "metadata": {},
     "output_type": "execute_result"
    }
   ],
   "source": [
    "df\n",
    "df.loc['MSSF002'] # .loc for a row selection\n",
    "\n",
    "df.loc[['MSSF001', 'MSSF004']]  # Multiple"
   ]
  },
  {
   "cell_type": "markdown",
   "id": "618b0ed9",
   "metadata": {},
   "source": [
    "### Selecting Subset of Rows and Columns"
   ]
  },
  {
   "cell_type": "code",
   "execution_count": 18,
   "id": "d5a872b5",
   "metadata": {},
   "outputs": [
    {
     "data": {
      "text/plain": [
       "'Ahmad'"
      ]
     },
     "execution_count": 18,
     "metadata": {},
     "output_type": "execute_result"
    }
   ],
   "source": [
    "# Just like a 2D selection\n",
    "df\n",
    "df.loc[['MSSF001', 'MSSF003']][['Age', 'Designation']]  # Selected rows and columns of my choice\n",
    "\n",
    "df.loc['MSSF002']['Name']"
   ]
  },
  {
   "cell_type": "markdown",
   "id": "b4a98a4d",
   "metadata": {},
   "source": [
    "### Conditional selection"
   ]
  },
  {
   "cell_type": "code",
   "execution_count": null,
   "id": "c9d8d5e8",
   "metadata": {},
   "outputs": [
    {
     "data": {
      "text/html": [
       "<div>\n",
       "<style scoped>\n",
       "    .dataframe tbody tr th:only-of-type {\n",
       "        vertical-align: middle;\n",
       "    }\n",
       "\n",
       "    .dataframe tbody tr th {\n",
       "        vertical-align: top;\n",
       "    }\n",
       "\n",
       "    .dataframe thead th {\n",
       "        text-align: right;\n",
       "    }\n",
       "</style>\n",
       "<table border=\"1\" class=\"dataframe\">\n",
       "  <thead>\n",
       "    <tr style=\"text-align: right;\">\n",
       "      <th></th>\n",
       "      <th>Name</th>\n",
       "      <th>Age</th>\n",
       "      <th>City</th>\n",
       "      <th>Salary</th>\n",
       "      <th>Designation</th>\n",
       "    </tr>\n",
       "  </thead>\n",
       "  <tbody>\n",
       "    <tr>\n",
       "      <th>MSSF004</th>\n",
       "      <td>Ali</td>\n",
       "      <td>21</td>\n",
       "      <td>Peshawar</td>\n",
       "      <td>115000</td>\n",
       "      <td>Pilot</td>\n",
       "    </tr>\n",
       "  </tbody>\n",
       "</table>\n",
       "</div>"
      ],
      "text/plain": [
       "        Name  Age      City  Salary Designation\n",
       "MSSF004  Ali   21  Peshawar  115000       Pilot"
      ]
     },
     "metadata": {},
     "output_type": "display_data"
    }
   ],
   "source": [
    "# Only those people which are above 18\n",
    "\n",
    "df[df['Age'] > 18]\n",
    "\n",
    "# Only those who live in peshawar and age is greater than 18\n",
    "df[(df['Age'] > 18) & (df['City'] == 'Peshawar')]"
   ]
  }
 ],
 "metadata": {
  "kernelspec": {
   "display_name": "base",
   "language": "python",
   "name": "python3"
  },
  "language_info": {
   "codemirror_mode": {
    "name": "ipython",
    "version": 3
   },
   "file_extension": ".py",
   "mimetype": "text/x-python",
   "name": "python",
   "nbconvert_exporter": "python",
   "pygments_lexer": "ipython3",
   "version": "3.12.7"
  }
 },
 "nbformat": 4,
 "nbformat_minor": 5
}

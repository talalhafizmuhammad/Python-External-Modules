{
 "cells": [
  {
   "cell_type": "code",
   "execution_count": 2,
   "id": "bbda70ca",
   "metadata": {},
   "outputs": [],
   "source": [
    "import numpy as np\n",
    "import pandas as pd"
   ]
  },
  {
   "cell_type": "markdown",
   "id": "64a499b6",
   "metadata": {},
   "source": [
    "# Group By && Aggregation"
   ]
  },
  {
   "cell_type": "markdown",
   "id": "ff365784",
   "metadata": {},
   "source": [
    "### Group By"
   ]
  },
  {
   "cell_type": "code",
   "execution_count": 5,
   "id": "0aba6b25",
   "metadata": {},
   "outputs": [],
   "source": [
    "data = {\n",
    "    'Category': ['A', 'B', 'A', 'B', 'A', 'B', 'A', 'B'],\n",
    "    'Store': ['S1', 'S1', 'S2', 'S2', 'S2', 'S1', 'S2', 'S1'],\n",
    "    'Sales': [100, 200, 150, 250, 120, 230, 100, 240],\n",
    "    'Quantity': [10, 15, 12, 8, 17, 21, 14, 25],\n",
    "    'Date': pd.date_range('2023-01-01', periods = 8)\n",
    "}\n",
    "\n",
    "df = pd.DataFrame(data)\n"
   ]
  },
  {
   "cell_type": "code",
   "execution_count": 6,
   "id": "361263be",
   "metadata": {},
   "outputs": [
    {
     "data": {
      "text/html": [
       "<div>\n",
       "<style scoped>\n",
       "    .dataframe tbody tr th:only-of-type {\n",
       "        vertical-align: middle;\n",
       "    }\n",
       "\n",
       "    .dataframe tbody tr th {\n",
       "        vertical-align: top;\n",
       "    }\n",
       "\n",
       "    .dataframe thead th {\n",
       "        text-align: right;\n",
       "    }\n",
       "</style>\n",
       "<table border=\"1\" class=\"dataframe\">\n",
       "  <thead>\n",
       "    <tr style=\"text-align: right;\">\n",
       "      <th></th>\n",
       "      <th>Category</th>\n",
       "      <th>Store</th>\n",
       "      <th>Sales</th>\n",
       "      <th>Quantity</th>\n",
       "      <th>Date</th>\n",
       "    </tr>\n",
       "  </thead>\n",
       "  <tbody>\n",
       "    <tr>\n",
       "      <th>0</th>\n",
       "      <td>A</td>\n",
       "      <td>S1</td>\n",
       "      <td>100</td>\n",
       "      <td>10</td>\n",
       "      <td>2023-01-01</td>\n",
       "    </tr>\n",
       "    <tr>\n",
       "      <th>1</th>\n",
       "      <td>B</td>\n",
       "      <td>S1</td>\n",
       "      <td>200</td>\n",
       "      <td>15</td>\n",
       "      <td>2023-01-02</td>\n",
       "    </tr>\n",
       "    <tr>\n",
       "      <th>2</th>\n",
       "      <td>A</td>\n",
       "      <td>S2</td>\n",
       "      <td>150</td>\n",
       "      <td>12</td>\n",
       "      <td>2023-01-03</td>\n",
       "    </tr>\n",
       "    <tr>\n",
       "      <th>3</th>\n",
       "      <td>B</td>\n",
       "      <td>S2</td>\n",
       "      <td>250</td>\n",
       "      <td>8</td>\n",
       "      <td>2023-01-04</td>\n",
       "    </tr>\n",
       "    <tr>\n",
       "      <th>4</th>\n",
       "      <td>A</td>\n",
       "      <td>S2</td>\n",
       "      <td>120</td>\n",
       "      <td>17</td>\n",
       "      <td>2023-01-05</td>\n",
       "    </tr>\n",
       "    <tr>\n",
       "      <th>5</th>\n",
       "      <td>B</td>\n",
       "      <td>S1</td>\n",
       "      <td>230</td>\n",
       "      <td>21</td>\n",
       "      <td>2023-01-06</td>\n",
       "    </tr>\n",
       "    <tr>\n",
       "      <th>6</th>\n",
       "      <td>A</td>\n",
       "      <td>S2</td>\n",
       "      <td>100</td>\n",
       "      <td>14</td>\n",
       "      <td>2023-01-07</td>\n",
       "    </tr>\n",
       "    <tr>\n",
       "      <th>7</th>\n",
       "      <td>B</td>\n",
       "      <td>S1</td>\n",
       "      <td>240</td>\n",
       "      <td>25</td>\n",
       "      <td>2023-01-08</td>\n",
       "    </tr>\n",
       "  </tbody>\n",
       "</table>\n",
       "</div>"
      ],
      "text/plain": [
       "  Category Store  Sales  Quantity       Date\n",
       "0        A    S1    100        10 2023-01-01\n",
       "1        B    S1    200        15 2023-01-02\n",
       "2        A    S2    150        12 2023-01-03\n",
       "3        B    S2    250         8 2023-01-04\n",
       "4        A    S2    120        17 2023-01-05\n",
       "5        B    S1    230        21 2023-01-06\n",
       "6        A    S2    100        14 2023-01-07\n",
       "7        B    S1    240        25 2023-01-08"
      ]
     },
     "execution_count": 6,
     "metadata": {},
     "output_type": "execute_result"
    }
   ],
   "source": [
    "df"
   ]
  },
  {
   "cell_type": "code",
   "execution_count": 8,
   "id": "879724c3",
   "metadata": {},
   "outputs": [
    {
     "name": "stdout",
     "output_type": "stream",
     "text": [
      "A\n",
      "  Category Store  Sales  Quantity       Date\n",
      "0        A    S1    100        10 2023-01-01\n",
      "2        A    S2    150        12 2023-01-03\n",
      "4        A    S2    120        17 2023-01-05\n",
      "6        A    S2    100        14 2023-01-07\n",
      "B\n",
      "  Category Store  Sales  Quantity       Date\n",
      "1        B    S1    200        15 2023-01-02\n",
      "3        B    S2    250         8 2023-01-04\n",
      "5        B    S1    230        21 2023-01-06\n",
      "7        B    S1    240        25 2023-01-08\n"
     ]
    }
   ],
   "source": [
    "# Grouping the data wrt category\n",
    "\n",
    "cat = df.groupby('Category')\n",
    "\n",
    "for i, j in cat:\n",
    "    print(i)\n",
    "    print(j)"
   ]
  },
  {
   "cell_type": "code",
   "execution_count": 11,
   "id": "6bee4bfa",
   "metadata": {},
   "outputs": [
    {
     "name": "stdout",
     "output_type": "stream",
     "text": [
      "S1\n",
      "  Category Store  Sales  Quantity       Date\n",
      "0        A    S1    100        10 2023-01-01\n",
      "1        B    S1    200        15 2023-01-02\n",
      "5        B    S1    230        21 2023-01-06\n",
      "7        B    S1    240        25 2023-01-08\n",
      "S2\n",
      "  Category Store  Sales  Quantity       Date\n",
      "2        A    S2    150        12 2023-01-03\n",
      "3        B    S2    250         8 2023-01-04\n",
      "4        A    S2    120        17 2023-01-05\n",
      "6        A    S2    100        14 2023-01-07\n"
     ]
    }
   ],
   "source": [
    "# Grouping the data wrt store\n",
    "\n",
    "cat = df.groupby('Store')\n",
    "\n",
    "for i, j in cat:\n",
    "    print(i)\n",
    "    print(j)"
   ]
  },
  {
   "cell_type": "code",
   "execution_count": 9,
   "id": "cec24f1e",
   "metadata": {},
   "outputs": [
    {
     "data": {
      "text/plain": [
       "Category\n",
       "A    470\n",
       "B    920\n",
       "Name: Sales, dtype: int64"
      ]
     },
     "execution_count": 9,
     "metadata": {},
     "output_type": "execute_result"
    }
   ],
   "source": [
    "# Group Sum of total sales on the basis of category\n",
    "cat = df.groupby('Category')['Sales'].sum()\n",
    "cat\n"
   ]
  },
  {
   "cell_type": "code",
   "execution_count": 10,
   "id": "73344083",
   "metadata": {},
   "outputs": [
    {
     "data": {
      "text/plain": [
       "Store\n",
       "S1    770\n",
       "S2    620\n",
       "Name: Sales, dtype: int64"
      ]
     },
     "execution_count": 10,
     "metadata": {},
     "output_type": "execute_result"
    }
   ],
   "source": [
    "# Group Sum of total sales on the basis of store\n",
    "cat = df.groupby('Store')['Sales'].sum()\n",
    "cat\n"
   ]
  },
  {
   "cell_type": "code",
   "execution_count": 12,
   "id": "4dd437d0",
   "metadata": {},
   "outputs": [
    {
     "data": {
      "text/plain": [
       "Category  Store\n",
       "A         S1       100\n",
       "          S2       370\n",
       "B         S1       670\n",
       "          S2       250\n",
       "Name: Sales, dtype: int64"
      ]
     },
     "execution_count": 12,
     "metadata": {},
     "output_type": "execute_result"
    }
   ],
   "source": [
    "# Group Sum of total sales on the basis of category as well as store\n",
    "cat = df.groupby(['Category', 'Store'])['Sales'].sum()\n",
    "cat\n"
   ]
  },
  {
   "cell_type": "markdown",
   "id": "2d3e134d",
   "metadata": {},
   "source": [
    "### Aggregation"
   ]
  },
  {
   "cell_type": "markdown",
   "id": "58584ee1",
   "metadata": {},
   "source": [
    "- Mean\n",
    "- Median\n",
    "- Sum\n",
    "- Standart deviation\n",
    "- Maximum\n",
    "- Minimum\n",
    "- Count\n",
    "- Mode"
   ]
  },
  {
   "cell_type": "code",
   "execution_count": 14,
   "id": "a28f46b5",
   "metadata": {},
   "outputs": [
    {
     "data": {
      "text/plain": [
       "173.75"
      ]
     },
     "execution_count": 14,
     "metadata": {},
     "output_type": "execute_result"
    }
   ],
   "source": [
    "df['Sales'].mean()"
   ]
  },
  {
   "cell_type": "code",
   "execution_count": 15,
   "id": "7a05ffd0",
   "metadata": {},
   "outputs": [
    {
     "data": {
      "text/plain": [
       "175.0"
      ]
     },
     "execution_count": 15,
     "metadata": {},
     "output_type": "execute_result"
    }
   ],
   "source": [
    "df['Sales'].median()"
   ]
  },
  {
   "cell_type": "code",
   "execution_count": 16,
   "id": "384fb8c8",
   "metadata": {},
   "outputs": [
    {
     "data": {
      "text/plain": [
       "0    100\n",
       "Name: Sales, dtype: int64"
      ]
     },
     "execution_count": 16,
     "metadata": {},
     "output_type": "execute_result"
    }
   ],
   "source": [
    "df['Sales'].mode()"
   ]
  },
  {
   "cell_type": "code",
   "execution_count": 17,
   "id": "05f289ad",
   "metadata": {},
   "outputs": [
    {
     "data": {
      "text/plain": [
       "1390"
      ]
     },
     "execution_count": 17,
     "metadata": {},
     "output_type": "execute_result"
    }
   ],
   "source": [
    "df['Sales'].sum()"
   ]
  },
  {
   "cell_type": "code",
   "execution_count": 18,
   "id": "b6fecedf",
   "metadata": {},
   "outputs": [
    {
     "data": {
      "text/plain": [
       "100"
      ]
     },
     "execution_count": 18,
     "metadata": {},
     "output_type": "execute_result"
    }
   ],
   "source": [
    "df['Sales'].min()"
   ]
  },
  {
   "cell_type": "code",
   "execution_count": 19,
   "id": "439edc5f",
   "metadata": {},
   "outputs": [
    {
     "data": {
      "text/plain": [
       "250"
      ]
     },
     "execution_count": 19,
     "metadata": {},
     "output_type": "execute_result"
    }
   ],
   "source": [
    "df['Sales'].max()"
   ]
  },
  {
   "cell_type": "code",
   "execution_count": 20,
   "id": "eb4a8e9a",
   "metadata": {},
   "outputs": [
    {
     "data": {
      "text/plain": [
       "63.68168608679534"
      ]
     },
     "execution_count": 20,
     "metadata": {},
     "output_type": "execute_result"
    }
   ],
   "source": [
    "df['Sales'].std()"
   ]
  },
  {
   "cell_type": "code",
   "execution_count": 21,
   "id": "9bd045c6",
   "metadata": {},
   "outputs": [
    {
     "data": {
      "text/plain": [
       "8"
      ]
     },
     "execution_count": 21,
     "metadata": {},
     "output_type": "execute_result"
    }
   ],
   "source": [
    "df['Sales'].count()"
   ]
  },
  {
   "cell_type": "code",
   "execution_count": null,
   "id": "cacec243",
   "metadata": {},
   "outputs": [
    {
     "data": {
      "text/plain": [
       "mean       173.750000\n",
       "median     175.000000\n",
       "std         63.681686\n",
       "min        100.000000\n",
       "max        250.000000\n",
       "count        8.000000\n",
       "sum       1390.000000\n",
       "Name: Sales, dtype: float64"
      ]
     },
     "execution_count": 24,
     "metadata": {},
     "output_type": "execute_result"
    }
   ],
   "source": [
    "# for whole aggregations in list (do not include mode as it is categorical element)\n",
    "df['Sales'].agg(['mean', 'median', 'std', 'min', 'max', 'count', 'sum'])"
   ]
  }
 ],
 "metadata": {
  "kernelspec": {
   "display_name": "base",
   "language": "python",
   "name": "python3"
  },
  "language_info": {
   "codemirror_mode": {
    "name": "ipython",
    "version": 3
   },
   "file_extension": ".py",
   "mimetype": "text/x-python",
   "name": "python",
   "nbconvert_exporter": "python",
   "pygments_lexer": "ipython3",
   "version": "3.12.7"
  }
 },
 "nbformat": 4,
 "nbformat_minor": 5
}

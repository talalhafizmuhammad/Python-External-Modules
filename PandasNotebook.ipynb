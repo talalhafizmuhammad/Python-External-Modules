{
 "cells": [
  {
   "cell_type": "markdown",
   "id": "55391369",
   "metadata": {},
   "source": [
    "# Pandas Notebook Rough\n"
   ]
  },
  {
   "cell_type": "markdown",
   "id": "3f08ad7e",
   "metadata": {},
   "source": [
    "##### Developed in 2008 by Wes Meckeney, while working in a private company\n"
   ]
  },
  {
   "cell_type": "markdown",
   "id": "feadc575",
   "metadata": {},
   "source": [
    "### UseCases\n",
    "\n",
    "- Data cleaning\n",
    "- Data analysis\n",
    "- Data transformation\n",
    "- Data Visualization (Basic)\n",
    "- Data Aggression\n",
    "- File Handling\n",
    "- Data filtering and selection\n",
    "- Time series analysis"
   ]
  },
  {
   "cell_type": "markdown",
   "id": "92b14b91",
   "metadata": {},
   "source": [
    "### Index\n",
    "\n",
    "- Series\n",
    "- DataFrames\n",
    "- Missing Data\n",
    "- Merging, joining, concatenating\n",
    "- GroupBy and Aggregations\n",
    "- Pivot Tables and crosstabs\n",
    "- Operations\n",
    "- Working with real data\n",
    "- Some Capstone projects"
   ]
  },
  {
   "cell_type": "code",
   "execution_count": 4,
   "id": "983f8f54",
   "metadata": {},
   "outputs": [],
   "source": [
    "import numpy as np\n",
    "import pandas as pd"
   ]
  },
  {
   "cell_type": "markdown",
   "id": "d4561431",
   "metadata": {},
   "source": [
    "## Creating Series"
   ]
  },
  {
   "cell_type": "markdown",
   "id": "493ac8e0",
   "metadata": {},
   "source": [
    "##### Series are 1D arrays capable of holding any type of data. The axis labels are collectively called the index. They are in vertical format."
   ]
  },
  {
   "cell_type": "code",
   "execution_count": 10,
   "id": "1cf5bcf8",
   "metadata": {},
   "outputs": [],
   "source": [
    "# Multiple ways to create series\n",
    "\n",
    "labels = ['a', 'b', 'c']\n",
    "myLists = [10, 20, 30]\n",
    "array = np.array([30, 40, 50])\n",
    "dic = {1: 25, 2: 50, 3: 44}"
   ]
  },
  {
   "cell_type": "code",
   "execution_count": null,
   "id": "c334143c",
   "metadata": {},
   "outputs": [],
   "source": [
    "# Simple series with labels (index): datapoints (created from list)\n",
    "\n",
    "pd.Series(myLists) # 0, 1, 2 are labels.... and values are data points"
   ]
  },
  {
   "cell_type": "code",
   "execution_count": null,
   "id": "82bc22fd",
   "metadata": {},
   "outputs": [],
   "source": [
    "# Custom labels\n",
    "\n",
    "pd.Series(myLists, index = labels)"
   ]
  },
  {
   "cell_type": "code",
   "execution_count": null,
   "id": "a217899e",
   "metadata": {},
   "outputs": [],
   "source": [
    "# Creating series from an array\n",
    "\n",
    "pd.Series(array)"
   ]
  },
  {
   "cell_type": "code",
   "execution_count": null,
   "id": "2669931f",
   "metadata": {},
   "outputs": [],
   "source": [
    "# creating series from dictionary\n",
    "\n",
    "pd.Series(dic)"
   ]
  },
  {
   "cell_type": "markdown",
   "id": "adbaf6bd",
   "metadata": {},
   "source": [
    "# Data Frames"
   ]
  },
  {
   "cell_type": "markdown",
   "id": "eb5b9aed",
   "metadata": {},
   "source": [
    "### Combination of multiple series ---> DataFrame"
   ]
  },
  {
   "cell_type": "markdown",
   "id": "2a4ba605",
   "metadata": {},
   "source": [
    "- Creating a dataframe\n",
    "- Selection and indexing of columns\n",
    "- Creating a new column\n",
    "- Removing a  column\n",
    "- Selecting rows\n",
    "- Selecting subsets of rows and columns\n",
    "- Conditional selections"
   ]
  },
  {
   "cell_type": "markdown",
   "id": "51a9db28",
   "metadata": {},
   "source": [
    "#### Creating a DataFrame"
   ]
  },
  {
   "cell_type": "code",
   "execution_count": 5,
   "id": "33056780",
   "metadata": {},
   "outputs": [
    {
     "data": {
      "text/html": [
       "<div>\n",
       "<style scoped>\n",
       "    .dataframe tbody tr th:only-of-type {\n",
       "        vertical-align: middle;\n",
       "    }\n",
       "\n",
       "    .dataframe tbody tr th {\n",
       "        vertical-align: top;\n",
       "    }\n",
       "\n",
       "    .dataframe thead th {\n",
       "        text-align: right;\n",
       "    }\n",
       "</style>\n",
       "<table border=\"1\" class=\"dataframe\">\n",
       "  <thead>\n",
       "    <tr style=\"text-align: right;\">\n",
       "      <th></th>\n",
       "      <th>Name</th>\n",
       "      <th>Age</th>\n",
       "      <th>City</th>\n",
       "      <th>Salary</th>\n",
       "    </tr>\n",
       "  </thead>\n",
       "  <tbody>\n",
       "    <tr>\n",
       "      <th>MSSF001</th>\n",
       "      <td>Talal</td>\n",
       "      <td>18</td>\n",
       "      <td>Lahore</td>\n",
       "      <td>170000</td>\n",
       "    </tr>\n",
       "    <tr>\n",
       "      <th>MSSF002</th>\n",
       "      <td>Ahmad</td>\n",
       "      <td>19</td>\n",
       "      <td>Islamabad</td>\n",
       "      <td>65000</td>\n",
       "    </tr>\n",
       "    <tr>\n",
       "      <th>MSSF003</th>\n",
       "      <td>Faiqa</td>\n",
       "      <td>17</td>\n",
       "      <td>Karachi</td>\n",
       "      <td>82000</td>\n",
       "    </tr>\n",
       "    <tr>\n",
       "      <th>MSSF004</th>\n",
       "      <td>Ali</td>\n",
       "      <td>21</td>\n",
       "      <td>Peshawar</td>\n",
       "      <td>115000</td>\n",
       "    </tr>\n",
       "  </tbody>\n",
       "</table>\n",
       "</div>"
      ],
      "text/plain": [
       "          Name  Age       City  Salary\n",
       "MSSF001  Talal   18     Lahore  170000\n",
       "MSSF002  Ahmad   19  Islamabad   65000\n",
       "MSSF003  Faiqa   17    Karachi   82000\n",
       "MSSF004    Ali   21   Peshawar  115000"
      ]
     },
     "execution_count": 5,
     "metadata": {},
     "output_type": "execute_result"
    }
   ],
   "source": [
    "i = ['MSSF001', 'MSSF002', 'MSSF003', 'MSSF004']\n",
    "dataDict = {\n",
    "    'Name': ['Talal', 'Ahmad', 'Faiqa', 'Ali'],\n",
    "    'Age': [18, 19, 17, 21],\n",
    "    'City': ['Lahore', 'Islamabad', 'Karachi', 'Peshawar'],\n",
    "    'Salary': [170000, 65000, 82000, 115000]\n",
    "}\n",
    "\n",
    "# Creating a DataFrame using dictionary\n",
    "df = pd.DataFrame(dataDict, index=i)\n",
    "df"
   ]
  },
  {
   "cell_type": "code",
   "execution_count": 6,
   "id": "bfd0a311",
   "metadata": {},
   "outputs": [
    {
     "data": {
      "text/html": [
       "<div>\n",
       "<style scoped>\n",
       "    .dataframe tbody tr th:only-of-type {\n",
       "        vertical-align: middle;\n",
       "    }\n",
       "\n",
       "    .dataframe tbody tr th {\n",
       "        vertical-align: top;\n",
       "    }\n",
       "\n",
       "    .dataframe thead th {\n",
       "        text-align: right;\n",
       "    }\n",
       "</style>\n",
       "<table border=\"1\" class=\"dataframe\">\n",
       "  <thead>\n",
       "    <tr style=\"text-align: right;\">\n",
       "      <th></th>\n",
       "      <th>Name</th>\n",
       "      <th>Age</th>\n",
       "      <th>City</th>\n",
       "      <th>Salary</th>\n",
       "    </tr>\n",
       "  </thead>\n",
       "  <tbody>\n",
       "    <tr>\n",
       "      <th>MSSF001</th>\n",
       "      <td>Talal</td>\n",
       "      <td>18</td>\n",
       "      <td>Lahore</td>\n",
       "      <td>170000</td>\n",
       "    </tr>\n",
       "    <tr>\n",
       "      <th>MSSF002</th>\n",
       "      <td>Ahmad</td>\n",
       "      <td>19</td>\n",
       "      <td>Islamabad</td>\n",
       "      <td>65000</td>\n",
       "    </tr>\n",
       "    <tr>\n",
       "      <th>MSSF003</th>\n",
       "      <td>Faiqa</td>\n",
       "      <td>17</td>\n",
       "      <td>Karachi</td>\n",
       "      <td>82000</td>\n",
       "    </tr>\n",
       "    <tr>\n",
       "      <th>MSSF004</th>\n",
       "      <td>Ali</td>\n",
       "      <td>21</td>\n",
       "      <td>Peshawar</td>\n",
       "      <td>115000</td>\n",
       "    </tr>\n",
       "  </tbody>\n",
       "</table>\n",
       "</div>"
      ],
      "text/plain": [
       "          Name  Age       City  Salary\n",
       "MSSF001  Talal   18     Lahore  170000\n",
       "MSSF002  Ahmad   19  Islamabad   65000\n",
       "MSSF003  Faiqa   17    Karachi   82000\n",
       "MSSF004    Ali   21   Peshawar  115000"
      ]
     },
     "execution_count": 6,
     "metadata": {},
     "output_type": "execute_result"
    }
   ],
   "source": [
    "i = ['MSSF001', 'MSSF002', 'MSSF003', 'MSSF004']\n",
    "data = [\n",
    "    ['Talal', 18, 'Lahore', 170000],\n",
    "    ['Ahmad', 19, 'Islamabad', 65000],\n",
    "    ['Faiqa', 17, 'Karachi', 82000],\n",
    "    ['Ali', 21, 'Peshawar', 115000]\n",
    "]\n",
    "\n",
    "# Creating a DataFrame using List\n",
    "Col = ['Name', 'Age' ,'City', 'Salary']\n",
    "df2 = pd.DataFrame(data, index = i, columns = Col)\n",
    "df2"
   ]
  },
  {
   "cell_type": "markdown",
   "id": "8e7fe31f",
   "metadata": {},
   "source": [
    "### Selecting and Indexing of columns\n"
   ]
  },
  {
   "cell_type": "code",
   "execution_count": null,
   "id": "09e4c892",
   "metadata": {},
   "outputs": [],
   "source": [
    "col1 = df[['Age']]\n",
    "print(col1)\n",
    "col = df2[['Name', 'Salary']] \n",
    "print(col)"
   ]
  },
  {
   "cell_type": "markdown",
   "id": "03106546",
   "metadata": {},
   "source": [
    "# Continuing "
   ]
  }
 ],
 "metadata": {
  "kernelspec": {
   "display_name": "base",
   "language": "python",
   "name": "python3"
  },
  "language_info": {
   "codemirror_mode": {
    "name": "ipython",
    "version": 3
   },
   "file_extension": ".py",
   "mimetype": "text/x-python",
   "name": "python",
   "nbconvert_exporter": "python",
   "pygments_lexer": "ipython3",
   "version": "3.12.7"
  }
 },
 "nbformat": 4,
 "nbformat_minor": 5
}

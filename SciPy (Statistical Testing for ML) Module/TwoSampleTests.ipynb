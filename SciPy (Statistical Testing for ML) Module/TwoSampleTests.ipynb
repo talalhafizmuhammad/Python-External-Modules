{
 "cells": [
  {
   "cell_type": "markdown",
   "id": "66690b48",
   "metadata": {},
   "source": [
    "# Two-Sample Tests\n",
    "\n",
    "### 1. Two-Sample Z-Test\n",
    "Used when population standard deviations are known.\n",
    "\n",
    "$$\n",
    "Z = \\frac{(\\bar{X}_1 - \\bar{X}_2) - (\\mu_1 - \\mu_2)}{\\sqrt{\\frac{\\sigma_1^2}{n_1} + \\frac{\\sigma_2^2}{n_2}}}\n",
    "$$\n",
    "\n",
    "\n",
    "### 2. Two-Sample t-Test\n",
    "Used when population standard deviations are unknown.\n",
    "\n",
    "$$\n",
    "T = \\frac{(\\bar{X}_1 - \\bar{X}_2) - (\\mu_1 - \\mu_2)}{\\sqrt{\\frac{s_1^2}{n_1} + \\frac{s_2^2}{n_2}}}\n",
    "$$\n",
    "\n",
    "### 3. Paired t-Test\n",
    "Used when the same group is measured twice.\n",
    "\n",
    "$$\n",
    "t = \\frac{\\bar{D}}{s_D / \\sqrt{n}}\n",
    "$$\n",
    "\n",
    "\n",
    "## Degrees of Freedom in Two-Sample t-Test\n",
    "\n",
    "### 1. **Welch–Satterthwaite Equation (Exact Approximation)**\n",
    "Used when variances are **unequal**:\n",
    "\n",
    "$$\n",
    "df = \\frac{\\left(\\frac{s_1^2}{n_1} + \\frac{s_2^2}{n_2}\\right)^2}{\\frac{\\left(\\frac{s_1^2}{n_1}\\right)^2}{n_1 - 1} + \\frac{\\left(\\frac{s_2^2}{n_2}\\right)^2}{n_2 - 1}}\n",
    "$$\n",
    "\n",
    "- Produces a **non-integer df** (e.g., 16.7)  \n",
    "- Most software (R, Python, SPSS) uses this by default  \n",
    "\n",
    "---\n",
    "\n",
    "### 2. **Conservative Approximation (Minimum Rule)**\n",
    "$$\n",
    "df \\approx \\min(n_1 - 1,\\; n_2 - 1)\n",
    "$$\n",
    "\n",
    "- Easier to compute by hand  \n",
    "- Gives **smaller df** → larger critical \\(t\\) value  \n",
    "- Reduces **Type I error** (false positives)  \n",
    "- Common in older statistics textbooks  \n",
    "\n",
    "---\n",
    "\n",
    "### 3. **Equal Variance Assumption (Pooled t-test)**\n",
    "If variances are assumed **equal**:\n",
    "\n",
    "$$\n",
    "df = n_1 + n_2 - 2\n",
    "$$\n",
    "\n",
    "---\n",
    "\n",
    "- **Welch–Satterthwaite formula** → Best, used in modern software  \n",
    "- **Min rule** → Conservative shortcut  \n",
    "- **Pooled df** → Only if variances are assumed equal  \n",
    "\n",
    "\n"
   ]
  },
  {
   "cell_type": "markdown",
   "id": "dd0143d9",
   "metadata": {},
   "source": [
    "### Two sample t test"
   ]
  },
  {
   "cell_type": "code",
   "execution_count": 1,
   "id": "d441d7ca",
   "metadata": {},
   "outputs": [],
   "source": [
    "import numpy as np\n",
    "from scipy import stats"
   ]
  },
  {
   "cell_type": "code",
   "execution_count": 2,
   "id": "bacbe75a",
   "metadata": {},
   "outputs": [],
   "source": [
    "group_A = [85, 88, 90, 92, 87, 85, 89, 91, 86, 88] \n",
    "group_B = [82, 84, 80, 83, 81, 79, 78, 85, 84, 83]"
   ]
  },
  {
   "cell_type": "code",
   "execution_count": 5,
   "id": "b4d2eb95",
   "metadata": {},
   "outputs": [
    {
     "data": {
      "text/plain": [
       "1.610475598965881e-05"
      ]
     },
     "execution_count": 5,
     "metadata": {},
     "output_type": "execute_result"
    }
   ],
   "source": [
    "t_stats , p_value = stats.ttest_ind(group_A, group_B , equal_var= False)\n",
    "t_stats\n",
    "p_value"
   ]
  },
  {
   "cell_type": "code",
   "execution_count": 7,
   "id": "547ff7b5",
   "metadata": {},
   "outputs": [
    {
     "name": "stdout",
     "output_type": "stream",
     "text": [
      "I will reject the null hypothesis\n"
     ]
    }
   ],
   "source": [
    "alpha = 0.05\n",
    "if p_value < alpha:\n",
    "    print(\"I will reject the null hypothesis\")\n",
    "else:\n",
    "    print(\"I will accept the null hypothesis\")"
   ]
  },
  {
   "cell_type": "markdown",
   "id": "c4eabe9e",
   "metadata": {},
   "source": [
    "## **Created By:** *Hafiz Muhammad Talal*"
   ]
  }
 ],
 "metadata": {
  "kernelspec": {
   "display_name": "base",
   "language": "python",
   "name": "python3"
  },
  "language_info": {
   "codemirror_mode": {
    "name": "ipython",
    "version": 3
   },
   "file_extension": ".py",
   "mimetype": "text/x-python",
   "name": "python",
   "nbconvert_exporter": "python",
   "pygments_lexer": "ipython3",
   "version": "3.12.7"
  }
 },
 "nbformat": 4,
 "nbformat_minor": 5
}

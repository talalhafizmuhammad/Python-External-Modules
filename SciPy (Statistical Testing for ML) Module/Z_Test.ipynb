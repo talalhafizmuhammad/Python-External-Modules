{
 "cells": [
  {
   "cell_type": "markdown",
   "id": "597d6924",
   "metadata": {},
   "source": [
    "## Z-test"
   ]
  },
  {
   "cell_type": "markdown",
   "id": "3632ca5b",
   "metadata": {},
   "source": [
    "\n",
    "- **When used**:  \n",
    "  Used when population standard deviation ($\\sigma$) is known,  \n",
    "  or when sample size is very large ($n \\geq 30$, so CLT applies).\n",
    "\n",
    "- **Test Statistic**:  \n",
    "\n",
    "  $$\n",
    "  Z = \\frac{\\bar{x} - \\mu}{\\sigma / \\sqrt{n}}\n",
    "  $$\n",
    "\n",
    "- **Distribution**:  \n",
    "  Standard Normal $N(0,1)$.\n",
    "\n",
    "- **Example**:  \n",
    "  A factory claims bulb life = 1000 hours, $\\sigma = 100$ hours known.  \n",
    "  You take a sample of $n = 50$ → Apply **Z-test**.\n"
   ]
  },
  {
   "cell_type": "code",
   "execution_count": 1,
   "id": "ad0b8fda",
   "metadata": {},
   "outputs": [],
   "source": [
    "import numpy as np\n",
    "from scipy.stats import norm\n"
   ]
  },
  {
   "cell_type": "code",
   "execution_count": 2,
   "id": "c41f73ee",
   "metadata": {},
   "outputs": [],
   "source": [
    "sample_data = [172, 168, 174, 169, 171, 173, 175, 169, 172]\n",
    "population_mean = 170\n",
    "population_std = 3\n",
    "sample_mean = np.mean(sample_data)\n",
    "n = len(sample_data)"
   ]
  },
  {
   "cell_type": "code",
   "execution_count": 3,
   "id": "15edf3b9",
   "metadata": {},
   "outputs": [
    {
     "data": {
      "text/plain": [
       "1.444444444444457"
      ]
     },
     "execution_count": 3,
     "metadata": {},
     "output_type": "execute_result"
    }
   ],
   "source": [
    "z_score = (sample_mean - population_mean)/(population_std / np.sqrt(n))\n",
    "z_score"
   ]
  },
  {
   "cell_type": "code",
   "execution_count": 4,
   "id": "d44cf227",
   "metadata": {},
   "outputs": [
    {
     "data": {
      "text/plain": [
       "0.14861399645520823"
      ]
     },
     "execution_count": 4,
     "metadata": {},
     "output_type": "execute_result"
    }
   ],
   "source": [
    "alpha = 0.05\n",
    "p_value = 2 * (1 - norm.cdf(abs(z_score)))\n",
    "p_value"
   ]
  },
  {
   "cell_type": "code",
   "execution_count": 5,
   "id": "96ff71f2",
   "metadata": {},
   "outputs": [
    {
     "name": "stdout",
     "output_type": "stream",
     "text": [
      "I will accept the null hypothesis\n"
     ]
    }
   ],
   "source": [
    "if p_value < alpha:\n",
    "    print(\"I will reject the null hypothesis\")\n",
    "else:\n",
    "    print(\"I will accept the null hypothesis\")"
   ]
  },
  {
   "cell_type": "markdown",
   "id": "894d4d07",
   "metadata": {},
   "source": [
    "## **Created By:** *Hafiz Muhammad Talal*"
   ]
  }
 ],
 "metadata": {
  "kernelspec": {
   "display_name": "base",
   "language": "python",
   "name": "python3"
  },
  "language_info": {
   "codemirror_mode": {
    "name": "ipython",
    "version": 3
   },
   "file_extension": ".py",
   "mimetype": "text/x-python",
   "name": "python",
   "nbconvert_exporter": "python",
   "pygments_lexer": "ipython3",
   "version": "3.12.7"
  }
 },
 "nbformat": 4,
 "nbformat_minor": 5
}

{
 "cells": [
  {
   "cell_type": "markdown",
   "id": "3f0b8229",
   "metadata": {},
   "source": [
    "## T Test"
   ]
  },
  {
   "cell_type": "markdown",
   "id": "3e5bea84",
   "metadata": {},
   "source": [
    "- **When used**:  \n",
    "  Used when population standard deviation ($\\sigma$) is **unknown**,  \n",
    "  and sample size is **small** ($n < 30$).  \n",
    "  Uses **sample standard deviation ($s$)** instead of $\\sigma$.\n",
    "\n",
    "- **Test Statistic**:  \n",
    "\n",
    "  $$\n",
    "  t = \\frac{\\bar{x} - \\mu}{s / \\sqrt{n}}\n",
    "  $$\n",
    "\n",
    "- **Distribution**:  \n",
    "  Student's $t$ distribution with $(n-1)$ degrees of freedom.\n",
    "\n",
    "- **Example**:  \n",
    "  A teacher claims the average test score = 75.  \n",
    "  You take a sample of $n = 20$ students, but $\\sigma$ is **unknown**.  \n",
    "  → Apply **T-test**."
   ]
  },
  {
   "cell_type": "code",
   "execution_count": 13,
   "id": "8dd99d18",
   "metadata": {},
   "outputs": [],
   "source": [
    "import numpy as np\n",
    "from scipy.stats import t"
   ]
  },
  {
   "cell_type": "code",
   "execution_count": 19,
   "id": "d0d16b24",
   "metadata": {},
   "outputs": [],
   "source": [
    "sample_data = [172, 168, 174, 169, 171, 173, 175, 169, 172]\n",
    "sample_mean = np.mean(sample_data)\n",
    "sample_std = np.std(sample_data, ddof = 1)\n",
    "poplulation_mean = 170\n",
    "n = len(sample_data)\n",
    "df = 10 - 1"
   ]
  },
  {
   "cell_type": "code",
   "execution_count": 20,
   "id": "86658a40",
   "metadata": {},
   "outputs": [
    {
     "data": {
      "text/plain": [
       "1.8027756377320103"
      ]
     },
     "execution_count": 20,
     "metadata": {},
     "output_type": "execute_result"
    }
   ],
   "source": [
    "t_stats = (sample_mean - poplulation_mean) / (sample_std / np.sqrt(n))\n",
    "t_stats"
   ]
  },
  {
   "cell_type": "code",
   "execution_count": 21,
   "id": "0afc6d3c",
   "metadata": {},
   "outputs": [
    {
     "data": {
      "text/plain": [
       "0.10492862819188065"
      ]
     },
     "execution_count": 21,
     "metadata": {},
     "output_type": "execute_result"
    }
   ],
   "source": [
    "p_value = 2 * (1 - t.cdf(abs(t_stats), df))\n",
    "p_value"
   ]
  },
  {
   "cell_type": "code",
   "execution_count": 22,
   "id": "60504cd8",
   "metadata": {},
   "outputs": [
    {
     "name": "stdout",
     "output_type": "stream",
     "text": [
      "Accept the null hypothesis\n"
     ]
    }
   ],
   "source": [
    "alpha = 0.05\n",
    "if p_value < alpha:\n",
    "    print(\"Reject the null hypothesis\")\n",
    "else:\n",
    "    print(\"Accept the null hypothesis\")"
   ]
  },
  {
   "cell_type": "markdown",
   "id": "c3863fc4",
   "metadata": {},
   "source": [
    "## **Created By:** *Hafiz Muhammad Talal*"
   ]
  }
 ],
 "metadata": {
  "kernelspec": {
   "display_name": "base",
   "language": "python",
   "name": "python3"
  },
  "language_info": {
   "codemirror_mode": {
    "name": "ipython",
    "version": 3
   },
   "file_extension": ".py",
   "mimetype": "text/x-python",
   "name": "python",
   "nbconvert_exporter": "python",
   "pygments_lexer": "ipython3",
   "version": "3.12.7"
  }
 },
 "nbformat": 4,
 "nbformat_minor": 5
}
